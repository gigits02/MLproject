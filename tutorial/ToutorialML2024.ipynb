{
  "cells": [
    {
      "cell_type": "markdown",
      "metadata": {
        "id": "GbAlXehCUvrk"
      },
      "source": [
        "# Building and training machine learning models in Python"
      ]
    },
    {
      "cell_type": "code",
      "execution_count": 16,
      "metadata": {
        "colab": {
          "base_uri": "https://localhost:8080/"
        },
        "id": "wOjE-MuBmGxi",
        "outputId": "42d49425-43c9-41de-d69f-d69c2cddf535"
      },
      "outputs": [
        {
          "name": "stdout",
          "output_type": "stream",
          "text": [
            "Requirement already satisfied: torch in /home/gigitarasi/Desktop/VSC_WORKSPACE/vEnv/lib/python3.12/site-packages (2.6.0)\n",
            "Requirement already satisfied: torchviz in /home/gigitarasi/Desktop/VSC_WORKSPACE/vEnv/lib/python3.12/site-packages (0.0.3)\n",
            "Requirement already satisfied: tensorflow in /home/gigitarasi/Desktop/VSC_WORKSPACE/vEnv/lib/python3.12/site-packages (2.19.0)\n",
            "Requirement already satisfied: torchmetrics in /home/gigitarasi/Desktop/VSC_WORKSPACE/vEnv/lib/python3.12/site-packages (1.6.3)\n",
            "Requirement already satisfied: filelock in /home/gigitarasi/Desktop/VSC_WORKSPACE/vEnv/lib/python3.12/site-packages (from torch) (3.17.0)\n",
            "Requirement already satisfied: typing-extensions>=4.10.0 in /home/gigitarasi/Desktop/VSC_WORKSPACE/vEnv/lib/python3.12/site-packages (from torch) (4.12.2)\n",
            "Requirement already satisfied: networkx in /home/gigitarasi/Desktop/VSC_WORKSPACE/vEnv/lib/python3.12/site-packages (from torch) (3.4.2)\n",
            "Requirement already satisfied: jinja2 in /home/gigitarasi/Desktop/VSC_WORKSPACE/vEnv/lib/python3.12/site-packages (from torch) (3.1.5)\n",
            "Requirement already satisfied: fsspec in /home/gigitarasi/Desktop/VSC_WORKSPACE/vEnv/lib/python3.12/site-packages (from torch) (2025.2.0)\n",
            "Requirement already satisfied: nvidia-cuda-nvrtc-cu12==12.4.127 in /home/gigitarasi/Desktop/VSC_WORKSPACE/vEnv/lib/python3.12/site-packages (from torch) (12.4.127)\n",
            "Requirement already satisfied: nvidia-cuda-runtime-cu12==12.4.127 in /home/gigitarasi/Desktop/VSC_WORKSPACE/vEnv/lib/python3.12/site-packages (from torch) (12.4.127)\n",
            "Requirement already satisfied: nvidia-cuda-cupti-cu12==12.4.127 in /home/gigitarasi/Desktop/VSC_WORKSPACE/vEnv/lib/python3.12/site-packages (from torch) (12.4.127)\n",
            "Requirement already satisfied: nvidia-cudnn-cu12==9.1.0.70 in /home/gigitarasi/Desktop/VSC_WORKSPACE/vEnv/lib/python3.12/site-packages (from torch) (9.1.0.70)\n",
            "Requirement already satisfied: nvidia-cublas-cu12==12.4.5.8 in /home/gigitarasi/Desktop/VSC_WORKSPACE/vEnv/lib/python3.12/site-packages (from torch) (12.4.5.8)\n",
            "Requirement already satisfied: nvidia-cufft-cu12==11.2.1.3 in /home/gigitarasi/Desktop/VSC_WORKSPACE/vEnv/lib/python3.12/site-packages (from torch) (11.2.1.3)\n",
            "Requirement already satisfied: nvidia-curand-cu12==10.3.5.147 in /home/gigitarasi/Desktop/VSC_WORKSPACE/vEnv/lib/python3.12/site-packages (from torch) (10.3.5.147)\n",
            "Requirement already satisfied: nvidia-cusolver-cu12==11.6.1.9 in /home/gigitarasi/Desktop/VSC_WORKSPACE/vEnv/lib/python3.12/site-packages (from torch) (11.6.1.9)\n",
            "Requirement already satisfied: nvidia-cusparse-cu12==12.3.1.170 in /home/gigitarasi/Desktop/VSC_WORKSPACE/vEnv/lib/python3.12/site-packages (from torch) (12.3.1.170)\n",
            "Requirement already satisfied: nvidia-cusparselt-cu12==0.6.2 in /home/gigitarasi/Desktop/VSC_WORKSPACE/vEnv/lib/python3.12/site-packages (from torch) (0.6.2)\n",
            "Requirement already satisfied: nvidia-nccl-cu12==2.21.5 in /home/gigitarasi/Desktop/VSC_WORKSPACE/vEnv/lib/python3.12/site-packages (from torch) (2.21.5)\n",
            "Requirement already satisfied: nvidia-nvtx-cu12==12.4.127 in /home/gigitarasi/Desktop/VSC_WORKSPACE/vEnv/lib/python3.12/site-packages (from torch) (12.4.127)\n",
            "Requirement already satisfied: nvidia-nvjitlink-cu12==12.4.127 in /home/gigitarasi/Desktop/VSC_WORKSPACE/vEnv/lib/python3.12/site-packages (from torch) (12.4.127)\n",
            "Requirement already satisfied: triton==3.2.0 in /home/gigitarasi/Desktop/VSC_WORKSPACE/vEnv/lib/python3.12/site-packages (from torch) (3.2.0)\n",
            "Requirement already satisfied: setuptools in /home/gigitarasi/Desktop/VSC_WORKSPACE/vEnv/lib/python3.12/site-packages (from torch) (75.8.0)\n",
            "Requirement already satisfied: sympy==1.13.1 in /home/gigitarasi/Desktop/VSC_WORKSPACE/vEnv/lib/python3.12/site-packages (from torch) (1.13.1)\n",
            "Requirement already satisfied: mpmath<1.4,>=1.1.0 in /home/gigitarasi/Desktop/VSC_WORKSPACE/vEnv/lib/python3.12/site-packages (from sympy==1.13.1->torch) (1.3.0)\n",
            "Requirement already satisfied: graphviz in /home/gigitarasi/Desktop/VSC_WORKSPACE/vEnv/lib/python3.12/site-packages (from torchviz) (0.20.3)\n",
            "Requirement already satisfied: absl-py>=1.0.0 in /home/gigitarasi/Desktop/VSC_WORKSPACE/vEnv/lib/python3.12/site-packages (from tensorflow) (2.1.0)\n",
            "Requirement already satisfied: astunparse>=1.6.0 in /home/gigitarasi/Desktop/VSC_WORKSPACE/vEnv/lib/python3.12/site-packages (from tensorflow) (1.6.3)\n",
            "Requirement already satisfied: flatbuffers>=24.3.25 in /home/gigitarasi/Desktop/VSC_WORKSPACE/vEnv/lib/python3.12/site-packages (from tensorflow) (25.2.10)\n",
            "Requirement already satisfied: gast!=0.5.0,!=0.5.1,!=0.5.2,>=0.2.1 in /home/gigitarasi/Desktop/VSC_WORKSPACE/vEnv/lib/python3.12/site-packages (from tensorflow) (0.6.0)\n",
            "Requirement already satisfied: google-pasta>=0.1.1 in /home/gigitarasi/Desktop/VSC_WORKSPACE/vEnv/lib/python3.12/site-packages (from tensorflow) (0.2.0)\n",
            "Requirement already satisfied: libclang>=13.0.0 in /home/gigitarasi/Desktop/VSC_WORKSPACE/vEnv/lib/python3.12/site-packages (from tensorflow) (18.1.1)\n",
            "Requirement already satisfied: opt-einsum>=2.3.2 in /home/gigitarasi/Desktop/VSC_WORKSPACE/vEnv/lib/python3.12/site-packages (from tensorflow) (3.4.0)\n",
            "Requirement already satisfied: packaging in /home/gigitarasi/Desktop/VSC_WORKSPACE/vEnv/lib/python3.12/site-packages (from tensorflow) (23.2)\n",
            "Requirement already satisfied: protobuf!=4.21.0,!=4.21.1,!=4.21.2,!=4.21.3,!=4.21.4,!=4.21.5,<6.0.0dev,>=3.20.3 in /home/gigitarasi/Desktop/VSC_WORKSPACE/vEnv/lib/python3.12/site-packages (from tensorflow) (4.25.6)\n",
            "Requirement already satisfied: requests<3,>=2.21.0 in /home/gigitarasi/Desktop/VSC_WORKSPACE/vEnv/lib/python3.12/site-packages (from tensorflow) (2.32.3)\n",
            "Requirement already satisfied: six>=1.12.0 in /home/gigitarasi/Desktop/VSC_WORKSPACE/vEnv/lib/python3.12/site-packages (from tensorflow) (1.17.0)\n",
            "Requirement already satisfied: termcolor>=1.1.0 in /home/gigitarasi/Desktop/VSC_WORKSPACE/vEnv/lib/python3.12/site-packages (from tensorflow) (2.5.0)\n",
            "Requirement already satisfied: wrapt>=1.11.0 in /home/gigitarasi/Desktop/VSC_WORKSPACE/vEnv/lib/python3.12/site-packages (from tensorflow) (1.17.2)\n",
            "Requirement already satisfied: grpcio<2.0,>=1.24.3 in /home/gigitarasi/Desktop/VSC_WORKSPACE/vEnv/lib/python3.12/site-packages (from tensorflow) (1.70.0)\n",
            "Requirement already satisfied: tensorboard~=2.19.0 in /home/gigitarasi/Desktop/VSC_WORKSPACE/vEnv/lib/python3.12/site-packages (from tensorflow) (2.19.0)\n",
            "Requirement already satisfied: keras>=3.5.0 in /home/gigitarasi/Desktop/VSC_WORKSPACE/vEnv/lib/python3.12/site-packages (from tensorflow) (3.9.0)\n",
            "Requirement already satisfied: numpy<2.2.0,>=1.26.0 in /home/gigitarasi/Desktop/VSC_WORKSPACE/vEnv/lib/python3.12/site-packages (from tensorflow) (1.26.4)\n",
            "Requirement already satisfied: h5py>=3.11.0 in /home/gigitarasi/Desktop/VSC_WORKSPACE/vEnv/lib/python3.12/site-packages (from tensorflow) (3.13.0)\n",
            "Requirement already satisfied: ml-dtypes<1.0.0,>=0.5.1 in /home/gigitarasi/Desktop/VSC_WORKSPACE/vEnv/lib/python3.12/site-packages (from tensorflow) (0.5.1)\n",
            "Requirement already satisfied: lightning-utilities>=0.8.0 in /home/gigitarasi/Desktop/VSC_WORKSPACE/vEnv/lib/python3.12/site-packages (from torchmetrics) (0.14.0)\n",
            "Requirement already satisfied: wheel<1.0,>=0.23.0 in /home/gigitarasi/Desktop/VSC_WORKSPACE/vEnv/lib/python3.12/site-packages (from astunparse>=1.6.0->tensorflow) (0.45.1)\n",
            "Requirement already satisfied: rich in /home/gigitarasi/Desktop/VSC_WORKSPACE/vEnv/lib/python3.12/site-packages (from keras>=3.5.0->tensorflow) (13.9.4)\n",
            "Requirement already satisfied: namex in /home/gigitarasi/Desktop/VSC_WORKSPACE/vEnv/lib/python3.12/site-packages (from keras>=3.5.0->tensorflow) (0.0.8)\n",
            "Requirement already satisfied: optree in /home/gigitarasi/Desktop/VSC_WORKSPACE/vEnv/lib/python3.12/site-packages (from keras>=3.5.0->tensorflow) (0.14.1)\n",
            "Requirement already satisfied: charset-normalizer<4,>=2 in /home/gigitarasi/Desktop/VSC_WORKSPACE/vEnv/lib/python3.12/site-packages (from requests<3,>=2.21.0->tensorflow) (3.4.1)\n",
            "Requirement already satisfied: idna<4,>=2.5 in /home/gigitarasi/Desktop/VSC_WORKSPACE/vEnv/lib/python3.12/site-packages (from requests<3,>=2.21.0->tensorflow) (3.10)\n",
            "Requirement already satisfied: urllib3<3,>=1.21.1 in /home/gigitarasi/Desktop/VSC_WORKSPACE/vEnv/lib/python3.12/site-packages (from requests<3,>=2.21.0->tensorflow) (2.3.0)\n",
            "Requirement already satisfied: certifi>=2017.4.17 in /home/gigitarasi/Desktop/VSC_WORKSPACE/vEnv/lib/python3.12/site-packages (from requests<3,>=2.21.0->tensorflow) (2025.1.31)\n",
            "Requirement already satisfied: markdown>=2.6.8 in /home/gigitarasi/Desktop/VSC_WORKSPACE/vEnv/lib/python3.12/site-packages (from tensorboard~=2.19.0->tensorflow) (3.7)\n",
            "Requirement already satisfied: tensorboard-data-server<0.8.0,>=0.7.0 in /home/gigitarasi/Desktop/VSC_WORKSPACE/vEnv/lib/python3.12/site-packages (from tensorboard~=2.19.0->tensorflow) (0.7.2)\n",
            "Requirement already satisfied: werkzeug>=1.0.1 in /home/gigitarasi/Desktop/VSC_WORKSPACE/vEnv/lib/python3.12/site-packages (from tensorboard~=2.19.0->tensorflow) (3.1.3)\n",
            "Requirement already satisfied: MarkupSafe>=2.0 in /home/gigitarasi/Desktop/VSC_WORKSPACE/vEnv/lib/python3.12/site-packages (from jinja2->torch) (3.0.2)\n",
            "Requirement already satisfied: markdown-it-py>=2.2.0 in /home/gigitarasi/Desktop/VSC_WORKSPACE/vEnv/lib/python3.12/site-packages (from rich->keras>=3.5.0->tensorflow) (3.0.0)\n",
            "Requirement already satisfied: pygments<3.0.0,>=2.13.0 in /home/gigitarasi/Desktop/VSC_WORKSPACE/vEnv/lib/python3.12/site-packages (from rich->keras>=3.5.0->tensorflow) (2.19.1)\n",
            "Requirement already satisfied: mdurl~=0.1 in /home/gigitarasi/Desktop/VSC_WORKSPACE/vEnv/lib/python3.12/site-packages (from markdown-it-py>=2.2.0->rich->keras>=3.5.0->tensorflow) (0.1.2)\n"
          ]
        }
      ],
      "source": [
        "!pip install torch torchviz tensorflow torchmetrics"
      ]
    },
    {
      "cell_type": "markdown",
      "metadata": {
        "id": "GH8Ay4VIUmGF"
      },
      "source": [
        "## Data import and preprocessing\n",
        "We will use the Palmer Penguins dataset. The task will be to classify three different species of penguins given their body dimensions."
      ]
    },
    {
      "cell_type": "code",
      "execution_count": 17,
      "metadata": {
        "id": "4gNZzubuTNCO"
      },
      "outputs": [],
      "source": [
        "import pandas as pd\n",
        "from sklearn.model_selection import train_test_split\n",
        "from sklearn.preprocessing import StandardScaler"
      ]
    },
    {
      "cell_type": "code",
      "execution_count": 18,
      "metadata": {
        "id": "oPhwekVCTP53"
      },
      "outputs": [],
      "source": [
        "# Load the Palmer Penguins dataset\n",
        "url = 'https://raw.githubusercontent.com/allisonhorst/palmerpenguins/master/inst/extdata/penguins.csv'\n",
        "penguins = pd.read_csv(url)"
      ]
    },
    {
      "cell_type": "code",
      "execution_count": 19,
      "metadata": {
        "id": "xOhvXXLDTh0j"
      },
      "outputs": [],
      "source": [
        "penguins.dropna(inplace=True)"
      ]
    },
    {
      "cell_type": "code",
      "execution_count": 20,
      "metadata": {
        "colab": {
          "base_uri": "https://localhost:8080/",
          "height": 206
        },
        "id": "VjFUH7bw2eyo",
        "outputId": "ea8a5a34-d4d3-4957-d6f9-cbc130c0f445"
      },
      "outputs": [
        {
          "data": {
            "text/html": [
              "<div>\n",
              "<style scoped>\n",
              "    .dataframe tbody tr th:only-of-type {\n",
              "        vertical-align: middle;\n",
              "    }\n",
              "\n",
              "    .dataframe tbody tr th {\n",
              "        vertical-align: top;\n",
              "    }\n",
              "\n",
              "    .dataframe thead th {\n",
              "        text-align: right;\n",
              "    }\n",
              "</style>\n",
              "<table border=\"1\" class=\"dataframe\">\n",
              "  <thead>\n",
              "    <tr style=\"text-align: right;\">\n",
              "      <th></th>\n",
              "      <th>species</th>\n",
              "      <th>island</th>\n",
              "      <th>bill_length_mm</th>\n",
              "      <th>bill_depth_mm</th>\n",
              "      <th>flipper_length_mm</th>\n",
              "      <th>body_mass_g</th>\n",
              "      <th>sex</th>\n",
              "      <th>year</th>\n",
              "    </tr>\n",
              "  </thead>\n",
              "  <tbody>\n",
              "    <tr>\n",
              "      <th>0</th>\n",
              "      <td>Adelie</td>\n",
              "      <td>Torgersen</td>\n",
              "      <td>39.1</td>\n",
              "      <td>18.7</td>\n",
              "      <td>181.0</td>\n",
              "      <td>3750.0</td>\n",
              "      <td>male</td>\n",
              "      <td>2007</td>\n",
              "    </tr>\n",
              "    <tr>\n",
              "      <th>1</th>\n",
              "      <td>Adelie</td>\n",
              "      <td>Torgersen</td>\n",
              "      <td>39.5</td>\n",
              "      <td>17.4</td>\n",
              "      <td>186.0</td>\n",
              "      <td>3800.0</td>\n",
              "      <td>female</td>\n",
              "      <td>2007</td>\n",
              "    </tr>\n",
              "    <tr>\n",
              "      <th>2</th>\n",
              "      <td>Adelie</td>\n",
              "      <td>Torgersen</td>\n",
              "      <td>40.3</td>\n",
              "      <td>18.0</td>\n",
              "      <td>195.0</td>\n",
              "      <td>3250.0</td>\n",
              "      <td>female</td>\n",
              "      <td>2007</td>\n",
              "    </tr>\n",
              "    <tr>\n",
              "      <th>4</th>\n",
              "      <td>Adelie</td>\n",
              "      <td>Torgersen</td>\n",
              "      <td>36.7</td>\n",
              "      <td>19.3</td>\n",
              "      <td>193.0</td>\n",
              "      <td>3450.0</td>\n",
              "      <td>female</td>\n",
              "      <td>2007</td>\n",
              "    </tr>\n",
              "    <tr>\n",
              "      <th>5</th>\n",
              "      <td>Adelie</td>\n",
              "      <td>Torgersen</td>\n",
              "      <td>39.3</td>\n",
              "      <td>20.6</td>\n",
              "      <td>190.0</td>\n",
              "      <td>3650.0</td>\n",
              "      <td>male</td>\n",
              "      <td>2007</td>\n",
              "    </tr>\n",
              "  </tbody>\n",
              "</table>\n",
              "</div>"
            ],
            "text/plain": [
              "  species     island  bill_length_mm  bill_depth_mm  flipper_length_mm  \\\n",
              "0  Adelie  Torgersen            39.1           18.7              181.0   \n",
              "1  Adelie  Torgersen            39.5           17.4              186.0   \n",
              "2  Adelie  Torgersen            40.3           18.0              195.0   \n",
              "4  Adelie  Torgersen            36.7           19.3              193.0   \n",
              "5  Adelie  Torgersen            39.3           20.6              190.0   \n",
              "\n",
              "   body_mass_g     sex  year  \n",
              "0       3750.0    male  2007  \n",
              "1       3800.0  female  2007  \n",
              "2       3250.0  female  2007  \n",
              "4       3450.0  female  2007  \n",
              "5       3650.0    male  2007  "
            ]
          },
          "execution_count": 20,
          "metadata": {},
          "output_type": "execute_result"
        }
      ],
      "source": [
        "penguins.head()"
      ]
    },
    {
      "cell_type": "code",
      "execution_count": 21,
      "metadata": {
        "id": "BSkRE1d8TmEj"
      },
      "outputs": [],
      "source": [
        "features = penguins[['bill_length_mm', 'bill_depth_mm', 'flipper_length_mm', 'body_mass_g']]\n",
        "labels = pd.get_dummies(penguins['species'])"
      ]
    },
    {
      "cell_type": "code",
      "execution_count": 22,
      "metadata": {
        "id": "k91jOjmODgnf"
      },
      "outputs": [],
      "source": [
        "scaler = StandardScaler()\n",
        "features = pd.DataFrame(scaler.fit_transform(features), columns=features.columns)"
      ]
    },
    {
      "cell_type": "code",
      "execution_count": 23,
      "metadata": {
        "id": "xiSlB-ptTokW"
      },
      "outputs": [],
      "source": [
        "X_train, X_test, y_train, y_test = train_test_split(features, labels, test_size=0.2, random_state=42)"
      ]
    },
    {
      "cell_type": "code",
      "execution_count": 24,
      "metadata": {
        "id": "_1DftM1B3g2w"
      },
      "outputs": [],
      "source": [
        "input_dim = X_train.shape[1]\n",
        "output_dim = y_train.shape[1]"
      ]
    },
    {
      "cell_type": "markdown",
      "metadata": {
        "id": "swaqVulTybCl"
      },
      "source": [
        "# Tensorflow & Keras"
      ]
    },
    {
      "cell_type": "markdown",
      "metadata": {
        "id": "K-NbdWjb4zpI"
      },
      "source": [
        "### Sequential APIs"
      ]
    },
    {
      "cell_type": "code",
      "execution_count": 25,
      "metadata": {
        "colab": {
          "base_uri": "https://localhost:8080/",
          "height": 298
        },
        "id": "koAVFKdXygsl",
        "outputId": "a88719bd-84bb-4fff-8782-9c7d9a87a840"
      },
      "outputs": [
        {
          "name": "stderr",
          "output_type": "stream",
          "text": [
            "/home/gigitarasi/Desktop/VSC_WORKSPACE/vEnv/lib/python3.12/site-packages/keras/src/layers/core/dense.py:87: UserWarning: Do not pass an `input_shape`/`input_dim` argument to a layer. When using Sequential models, prefer using an `Input(shape)` object as the first layer in the model instead.\n",
            "  super().__init__(activity_regularizer=activity_regularizer, **kwargs)\n"
          ]
        },
        {
          "data": {
            "text/html": [
              "<pre style=\"white-space:pre;overflow-x:auto;line-height:normal;font-family:Menlo,'DejaVu Sans Mono',consolas,'Courier New',monospace\"><span style=\"font-weight: bold\">Model: \"sequential_2\"</span>\n",
              "</pre>\n"
            ],
            "text/plain": [
              "\u001b[1mModel: \"sequential_2\"\u001b[0m\n"
            ]
          },
          "metadata": {},
          "output_type": "display_data"
        },
        {
          "data": {
            "text/html": [
              "<pre style=\"white-space:pre;overflow-x:auto;line-height:normal;font-family:Menlo,'DejaVu Sans Mono',consolas,'Courier New',monospace\">┏━━━━━━━━━━━━━━━━━━━━━━━━━━━━━━━━━┳━━━━━━━━━━━━━━━━━━━━━━━━┳━━━━━━━━━━━━━━━┓\n",
              "┃<span style=\"font-weight: bold\"> Layer (type)                    </span>┃<span style=\"font-weight: bold\"> Output Shape           </span>┃<span style=\"font-weight: bold\">       Param # </span>┃\n",
              "┡━━━━━━━━━━━━━━━━━━━━━━━━━━━━━━━━━╇━━━━━━━━━━━━━━━━━━━━━━━━╇━━━━━━━━━━━━━━━┩\n",
              "│ dense_10 (<span style=\"color: #0087ff; text-decoration-color: #0087ff\">Dense</span>)                │ (<span style=\"color: #00d7ff; text-decoration-color: #00d7ff\">None</span>, <span style=\"color: #00af00; text-decoration-color: #00af00\">64</span>)             │           <span style=\"color: #00af00; text-decoration-color: #00af00\">320</span> │\n",
              "├─────────────────────────────────┼────────────────────────┼───────────────┤\n",
              "│ dense_11 (<span style=\"color: #0087ff; text-decoration-color: #0087ff\">Dense</span>)                │ (<span style=\"color: #00d7ff; text-decoration-color: #00d7ff\">None</span>, <span style=\"color: #00af00; text-decoration-color: #00af00\">32</span>)             │         <span style=\"color: #00af00; text-decoration-color: #00af00\">2,080</span> │\n",
              "├─────────────────────────────────┼────────────────────────┼───────────────┤\n",
              "│ dense_12 (<span style=\"color: #0087ff; text-decoration-color: #0087ff\">Dense</span>)                │ (<span style=\"color: #00d7ff; text-decoration-color: #00d7ff\">None</span>, <span style=\"color: #00af00; text-decoration-color: #00af00\">3</span>)              │            <span style=\"color: #00af00; text-decoration-color: #00af00\">99</span> │\n",
              "└─────────────────────────────────┴────────────────────────┴───────────────┘\n",
              "</pre>\n"
            ],
            "text/plain": [
              "┏━━━━━━━━━━━━━━━━━━━━━━━━━━━━━━━━━┳━━━━━━━━━━━━━━━━━━━━━━━━┳━━━━━━━━━━━━━━━┓\n",
              "┃\u001b[1m \u001b[0m\u001b[1mLayer (type)                   \u001b[0m\u001b[1m \u001b[0m┃\u001b[1m \u001b[0m\u001b[1mOutput Shape          \u001b[0m\u001b[1m \u001b[0m┃\u001b[1m \u001b[0m\u001b[1m      Param #\u001b[0m\u001b[1m \u001b[0m┃\n",
              "┡━━━━━━━━━━━━━━━━━━━━━━━━━━━━━━━━━╇━━━━━━━━━━━━━━━━━━━━━━━━╇━━━━━━━━━━━━━━━┩\n",
              "│ dense_10 (\u001b[38;5;33mDense\u001b[0m)                │ (\u001b[38;5;45mNone\u001b[0m, \u001b[38;5;34m64\u001b[0m)             │           \u001b[38;5;34m320\u001b[0m │\n",
              "├─────────────────────────────────┼────────────────────────┼───────────────┤\n",
              "│ dense_11 (\u001b[38;5;33mDense\u001b[0m)                │ (\u001b[38;5;45mNone\u001b[0m, \u001b[38;5;34m32\u001b[0m)             │         \u001b[38;5;34m2,080\u001b[0m │\n",
              "├─────────────────────────────────┼────────────────────────┼───────────────┤\n",
              "│ dense_12 (\u001b[38;5;33mDense\u001b[0m)                │ (\u001b[38;5;45mNone\u001b[0m, \u001b[38;5;34m3\u001b[0m)              │            \u001b[38;5;34m99\u001b[0m │\n",
              "└─────────────────────────────────┴────────────────────────┴───────────────┘\n"
            ]
          },
          "metadata": {},
          "output_type": "display_data"
        },
        {
          "data": {
            "text/html": [
              "<pre style=\"white-space:pre;overflow-x:auto;line-height:normal;font-family:Menlo,'DejaVu Sans Mono',consolas,'Courier New',monospace\"><span style=\"font-weight: bold\"> Total params: </span><span style=\"color: #00af00; text-decoration-color: #00af00\">2,499</span> (9.76 KB)\n",
              "</pre>\n"
            ],
            "text/plain": [
              "\u001b[1m Total params: \u001b[0m\u001b[38;5;34m2,499\u001b[0m (9.76 KB)\n"
            ]
          },
          "metadata": {},
          "output_type": "display_data"
        },
        {
          "data": {
            "text/html": [
              "<pre style=\"white-space:pre;overflow-x:auto;line-height:normal;font-family:Menlo,'DejaVu Sans Mono',consolas,'Courier New',monospace\"><span style=\"font-weight: bold\"> Trainable params: </span><span style=\"color: #00af00; text-decoration-color: #00af00\">2,499</span> (9.76 KB)\n",
              "</pre>\n"
            ],
            "text/plain": [
              "\u001b[1m Trainable params: \u001b[0m\u001b[38;5;34m2,499\u001b[0m (9.76 KB)\n"
            ]
          },
          "metadata": {},
          "output_type": "display_data"
        },
        {
          "data": {
            "text/html": [
              "<pre style=\"white-space:pre;overflow-x:auto;line-height:normal;font-family:Menlo,'DejaVu Sans Mono',consolas,'Courier New',monospace\"><span style=\"font-weight: bold\"> Non-trainable params: </span><span style=\"color: #00af00; text-decoration-color: #00af00\">0</span> (0.00 B)\n",
              "</pre>\n"
            ],
            "text/plain": [
              "\u001b[1m Non-trainable params: \u001b[0m\u001b[38;5;34m0\u001b[0m (0.00 B)\n"
            ]
          },
          "metadata": {},
          "output_type": "display_data"
        },
        {
          "name": "stdout",
          "output_type": "stream",
          "text": [
            "None\n"
          ]
        }
      ],
      "source": [
        "# Install TensorFlow (uncomment the line below if not already installed)\n",
        "\n",
        "\n",
        "import tensorflow as tf\n",
        "from tensorflow.keras import Sequential\n",
        "from tensorflow.keras.layers import Dense\n",
        "\n",
        "# Define a simple model\n",
        "model = Sequential([\n",
        "    # Dense layers are fully connected layers\n",
        "    Dense(64, activation='relu', input_shape=(input_dim,)),\n",
        "    Dense(32, activation='relu'),\n",
        "    Dense(output_dim, activation='softmax')\n",
        "])\n",
        "\n",
        "model.compile(optimizer='adam', loss='binary_crossentropy', metrics=['accuracy'])\n",
        "print(model.summary())"
      ]
    },
    {
      "cell_type": "code",
      "execution_count": 26,
      "metadata": {
        "colab": {
          "base_uri": "https://localhost:8080/"
        },
        "id": "vXeV05ZI1HV0",
        "outputId": "5d0413ec-0d33-4c76-be87-2d0b7a074e4f"
      },
      "outputs": [
        {
          "name": "stdout",
          "output_type": "stream",
          "text": [
            "Epoch 1/100\n",
            "\u001b[1m7/7\u001b[0m \u001b[32m━━━━━━━━━━━━━━━━━━━━\u001b[0m\u001b[37m\u001b[0m \u001b[1m2s\u001b[0m 35ms/step - accuracy: 0.7144 - loss: 0.6650 - val_accuracy: 0.8333 - val_loss: 0.6134\n",
            "Epoch 2/100\n",
            "\u001b[1m7/7\u001b[0m \u001b[32m━━━━━━━━━━━━━━━━━━━━\u001b[0m\u001b[37m\u001b[0m \u001b[1m0s\u001b[0m 11ms/step - accuracy: 0.7956 - loss: 0.6055 - val_accuracy: 0.8333 - val_loss: 0.5598\n",
            "Epoch 3/100\n",
            "\u001b[1m7/7\u001b[0m \u001b[32m━━━━━━━━━━━━━━━━━━━━\u001b[0m\u001b[37m\u001b[0m \u001b[1m0s\u001b[0m 14ms/step - accuracy: 0.8190 - loss: 0.5571 - val_accuracy: 0.8333 - val_loss: 0.5051\n",
            "Epoch 4/100\n",
            "\u001b[1m7/7\u001b[0m \u001b[32m━━━━━━━━━━━━━━━━━━━━\u001b[0m\u001b[37m\u001b[0m \u001b[1m0s\u001b[0m 12ms/step - accuracy: 0.7964 - loss: 0.5082 - val_accuracy: 0.8333 - val_loss: 0.4503\n",
            "Epoch 5/100\n",
            "\u001b[1m7/7\u001b[0m \u001b[32m━━━━━━━━━━━━━━━━━━━━\u001b[0m\u001b[37m\u001b[0m \u001b[1m0s\u001b[0m 11ms/step - accuracy: 0.7858 - loss: 0.4606 - val_accuracy: 0.8333 - val_loss: 0.3957\n",
            "Epoch 6/100\n",
            "\u001b[1m7/7\u001b[0m \u001b[32m━━━━━━━━━━━━━━━━━━━━\u001b[0m\u001b[37m\u001b[0m \u001b[1m0s\u001b[0m 12ms/step - accuracy: 0.8019 - loss: 0.4071 - val_accuracy: 0.8333 - val_loss: 0.3439\n",
            "Epoch 7/100\n",
            "\u001b[1m7/7\u001b[0m \u001b[32m━━━━━━━━━━━━━━━━━━━━\u001b[0m\u001b[37m\u001b[0m \u001b[1m0s\u001b[0m 19ms/step - accuracy: 0.8290 - loss: 0.3543 - val_accuracy: 0.8333 - val_loss: 0.2978\n",
            "Epoch 8/100\n",
            "\u001b[1m7/7\u001b[0m \u001b[32m━━━━━━━━━━━━━━━━━━━━\u001b[0m\u001b[37m\u001b[0m \u001b[1m0s\u001b[0m 24ms/step - accuracy: 0.8165 - loss: 0.3245 - val_accuracy: 0.8333 - val_loss: 0.2589\n",
            "Epoch 9/100\n",
            "\u001b[1m7/7\u001b[0m \u001b[32m━━━━━━━━━━━━━━━━━━━━\u001b[0m\u001b[37m\u001b[0m \u001b[1m0s\u001b[0m 23ms/step - accuracy: 0.8567 - loss: 0.2808 - val_accuracy: 0.8704 - val_loss: 0.2262\n",
            "Epoch 10/100\n",
            "\u001b[1m7/7\u001b[0m \u001b[32m━━━━━━━━━━━━━━━━━━━━\u001b[0m\u001b[37m\u001b[0m \u001b[1m0s\u001b[0m 15ms/step - accuracy: 0.8803 - loss: 0.2440 - val_accuracy: 0.8889 - val_loss: 0.1994\n",
            "Epoch 11/100\n",
            "\u001b[1m7/7\u001b[0m \u001b[32m━━━━━━━━━━━━━━━━━━━━\u001b[0m\u001b[37m\u001b[0m \u001b[1m0s\u001b[0m 16ms/step - accuracy: 0.8826 - loss: 0.2183 - val_accuracy: 0.9074 - val_loss: 0.1773\n",
            "Epoch 12/100\n",
            "\u001b[1m7/7\u001b[0m \u001b[32m━━━━━━━━━━━━━━━━━━━━\u001b[0m\u001b[37m\u001b[0m \u001b[1m0s\u001b[0m 12ms/step - accuracy: 0.8997 - loss: 0.2037 - val_accuracy: 0.9074 - val_loss: 0.1596\n",
            "Epoch 13/100\n",
            "\u001b[1m7/7\u001b[0m \u001b[32m━━━━━━━━━━━━━━━━━━━━\u001b[0m\u001b[37m\u001b[0m \u001b[1m0s\u001b[0m 12ms/step - accuracy: 0.8976 - loss: 0.1923 - val_accuracy: 0.9074 - val_loss: 0.1444\n",
            "Epoch 14/100\n",
            "\u001b[1m7/7\u001b[0m \u001b[32m━━━━━━━━━━━━━━━━━━━━\u001b[0m\u001b[37m\u001b[0m \u001b[1m0s\u001b[0m 13ms/step - accuracy: 0.9273 - loss: 0.1682 - val_accuracy: 0.9074 - val_loss: 0.1314\n",
            "Epoch 15/100\n",
            "\u001b[1m7/7\u001b[0m \u001b[32m━━━━━━━━━━━━━━━━━━━━\u001b[0m\u001b[37m\u001b[0m \u001b[1m0s\u001b[0m 22ms/step - accuracy: 0.9168 - loss: 0.1495 - val_accuracy: 0.9074 - val_loss: 0.1200\n",
            "Epoch 16/100\n",
            "\u001b[1m7/7\u001b[0m \u001b[32m━━━━━━━━━━━━━━━━━━━━\u001b[0m\u001b[37m\u001b[0m \u001b[1m0s\u001b[0m 21ms/step - accuracy: 0.9460 - loss: 0.1426 - val_accuracy: 0.9630 - val_loss: 0.1094\n",
            "Epoch 17/100\n",
            "\u001b[1m7/7\u001b[0m \u001b[32m━━━━━━━━━━━━━━━━━━━━\u001b[0m\u001b[37m\u001b[0m \u001b[1m0s\u001b[0m 14ms/step - accuracy: 0.9227 - loss: 0.1467 - val_accuracy: 0.9630 - val_loss: 0.1001\n",
            "Epoch 18/100\n",
            "\u001b[1m7/7\u001b[0m \u001b[32m━━━━━━━━━━━━━━━━━━━━\u001b[0m\u001b[37m\u001b[0m \u001b[1m0s\u001b[0m 12ms/step - accuracy: 0.9796 - loss: 0.1128 - val_accuracy: 0.9630 - val_loss: 0.0912\n",
            "Epoch 19/100\n",
            "\u001b[1m7/7\u001b[0m \u001b[32m━━━━━━━━━━━━━━━━━━━━\u001b[0m\u001b[37m\u001b[0m \u001b[1m0s\u001b[0m 13ms/step - accuracy: 0.9716 - loss: 0.0980 - val_accuracy: 0.9815 - val_loss: 0.0830\n",
            "Epoch 20/100\n",
            "\u001b[1m7/7\u001b[0m \u001b[32m━━━━━━━━━━━━━━━━━━━━\u001b[0m\u001b[37m\u001b[0m \u001b[1m0s\u001b[0m 12ms/step - accuracy: 0.9787 - loss: 0.0951 - val_accuracy: 0.9815 - val_loss: 0.0759\n",
            "Epoch 21/100\n",
            "\u001b[1m7/7\u001b[0m \u001b[32m━━━━━━━━━━━━━━━━━━━━\u001b[0m\u001b[37m\u001b[0m \u001b[1m0s\u001b[0m 22ms/step - accuracy: 0.9700 - loss: 0.0835 - val_accuracy: 0.9815 - val_loss: 0.0695\n",
            "Epoch 22/100\n",
            "\u001b[1m7/7\u001b[0m \u001b[32m━━━━━━━━━━━━━━━━━━━━\u001b[0m\u001b[37m\u001b[0m \u001b[1m0s\u001b[0m 19ms/step - accuracy: 0.9770 - loss: 0.0727 - val_accuracy: 1.0000 - val_loss: 0.0636\n",
            "Epoch 23/100\n",
            "\u001b[1m7/7\u001b[0m \u001b[32m━━━━━━━━━━━━━━━━━━━━\u001b[0m\u001b[37m\u001b[0m \u001b[1m0s\u001b[0m 15ms/step - accuracy: 0.9944 - loss: 0.0597 - val_accuracy: 1.0000 - val_loss: 0.0580\n",
            "Epoch 24/100\n",
            "\u001b[1m7/7\u001b[0m \u001b[32m━━━━━━━━━━━━━━━━━━━━\u001b[0m\u001b[37m\u001b[0m \u001b[1m0s\u001b[0m 16ms/step - accuracy: 0.9840 - loss: 0.0666 - val_accuracy: 1.0000 - val_loss: 0.0536\n",
            "Epoch 25/100\n",
            "\u001b[1m7/7\u001b[0m \u001b[32m━━━━━━━━━━━━━━━━━━━━\u001b[0m\u001b[37m\u001b[0m \u001b[1m0s\u001b[0m 16ms/step - accuracy: 0.9851 - loss: 0.0620 - val_accuracy: 1.0000 - val_loss: 0.0494\n",
            "Epoch 26/100\n",
            "\u001b[1m7/7\u001b[0m \u001b[32m━━━━━━━━━━━━━━━━━━━━\u001b[0m\u001b[37m\u001b[0m \u001b[1m0s\u001b[0m 15ms/step - accuracy: 0.9759 - loss: 0.0617 - val_accuracy: 1.0000 - val_loss: 0.0457\n",
            "Epoch 27/100\n",
            "\u001b[1m7/7\u001b[0m \u001b[32m━━━━━━━━━━━━━━━━━━━━\u001b[0m\u001b[37m\u001b[0m \u001b[1m0s\u001b[0m 11ms/step - accuracy: 0.9770 - loss: 0.0458 - val_accuracy: 1.0000 - val_loss: 0.0423\n",
            "Epoch 28/100\n",
            "\u001b[1m7/7\u001b[0m \u001b[32m━━━━━━━━━━━━━━━━━━━━\u001b[0m\u001b[37m\u001b[0m \u001b[1m0s\u001b[0m 12ms/step - accuracy: 0.9786 - loss: 0.0470 - val_accuracy: 1.0000 - val_loss: 0.0394\n",
            "Epoch 29/100\n",
            "\u001b[1m7/7\u001b[0m \u001b[32m━━━━━━━━━━━━━━━━━━━━\u001b[0m\u001b[37m\u001b[0m \u001b[1m0s\u001b[0m 12ms/step - accuracy: 0.9864 - loss: 0.0414 - val_accuracy: 1.0000 - val_loss: 0.0368\n",
            "Epoch 30/100\n",
            "\u001b[1m7/7\u001b[0m \u001b[32m━━━━━━━━━━━━━━━━━━━━\u001b[0m\u001b[37m\u001b[0m \u001b[1m0s\u001b[0m 17ms/step - accuracy: 0.9798 - loss: 0.0476 - val_accuracy: 1.0000 - val_loss: 0.0347\n",
            "Epoch 31/100\n",
            "\u001b[1m7/7\u001b[0m \u001b[32m━━━━━━━━━━━━━━━━━━━━\u001b[0m\u001b[37m\u001b[0m \u001b[1m0s\u001b[0m 12ms/step - accuracy: 0.9717 - loss: 0.0462 - val_accuracy: 1.0000 - val_loss: 0.0329\n",
            "Epoch 32/100\n",
            "\u001b[1m7/7\u001b[0m \u001b[32m━━━━━━━━━━━━━━━━━━━━\u001b[0m\u001b[37m\u001b[0m \u001b[1m0s\u001b[0m 16ms/step - accuracy: 0.9855 - loss: 0.0348 - val_accuracy: 1.0000 - val_loss: 0.0312\n",
            "Epoch 33/100\n",
            "\u001b[1m7/7\u001b[0m \u001b[32m━━━━━━━━━━━━━━━━━━━━\u001b[0m\u001b[37m\u001b[0m \u001b[1m0s\u001b[0m 25ms/step - accuracy: 0.9864 - loss: 0.0322 - val_accuracy: 1.0000 - val_loss: 0.0295\n",
            "Epoch 34/100\n",
            "\u001b[1m7/7\u001b[0m \u001b[32m━━━━━━━━━━━━━━━━━━━━\u001b[0m\u001b[37m\u001b[0m \u001b[1m0s\u001b[0m 25ms/step - accuracy: 0.9925 - loss: 0.0327 - val_accuracy: 1.0000 - val_loss: 0.0281\n",
            "Epoch 35/100\n",
            "\u001b[1m7/7\u001b[0m \u001b[32m━━━━━━━━━━━━━━━━━━━━\u001b[0m\u001b[37m\u001b[0m \u001b[1m0s\u001b[0m 11ms/step - accuracy: 0.9857 - loss: 0.0335 - val_accuracy: 1.0000 - val_loss: 0.0267\n",
            "Epoch 36/100\n",
            "\u001b[1m7/7\u001b[0m \u001b[32m━━━━━━━━━━━━━━━━━━━━\u001b[0m\u001b[37m\u001b[0m \u001b[1m0s\u001b[0m 13ms/step - accuracy: 0.9963 - loss: 0.0259 - val_accuracy: 1.0000 - val_loss: 0.0258\n",
            "Epoch 37/100\n",
            "\u001b[1m7/7\u001b[0m \u001b[32m━━━━━━━━━━━━━━━━━━━━\u001b[0m\u001b[37m\u001b[0m \u001b[1m0s\u001b[0m 22ms/step - accuracy: 0.9970 - loss: 0.0238 - val_accuracy: 1.0000 - val_loss: 0.0247\n",
            "Epoch 38/100\n",
            "\u001b[1m7/7\u001b[0m \u001b[32m━━━━━━━━━━━━━━━━━━━━\u001b[0m\u001b[37m\u001b[0m \u001b[1m0s\u001b[0m 16ms/step - accuracy: 0.9902 - loss: 0.0233 - val_accuracy: 1.0000 - val_loss: 0.0238\n",
            "Epoch 39/100\n",
            "\u001b[1m7/7\u001b[0m \u001b[32m━━━━━━━━━━━━━━━━━━━━\u001b[0m\u001b[37m\u001b[0m \u001b[1m0s\u001b[0m 21ms/step - accuracy: 0.9938 - loss: 0.0214 - val_accuracy: 1.0000 - val_loss: 0.0231\n",
            "Epoch 40/100\n",
            "\u001b[1m7/7\u001b[0m \u001b[32m━━━━━━━━━━━━━━━━━━━━\u001b[0m\u001b[37m\u001b[0m \u001b[1m0s\u001b[0m 17ms/step - accuracy: 0.9896 - loss: 0.0239 - val_accuracy: 1.0000 - val_loss: 0.0224\n",
            "Epoch 41/100\n",
            "\u001b[1m7/7\u001b[0m \u001b[32m━━━━━━━━━━━━━━━━━━━━\u001b[0m\u001b[37m\u001b[0m \u001b[1m0s\u001b[0m 17ms/step - accuracy: 0.9974 - loss: 0.0233 - val_accuracy: 1.0000 - val_loss: 0.0213\n",
            "Epoch 42/100\n",
            "\u001b[1m7/7\u001b[0m \u001b[32m━━━━━━━━━━━━━━━━━━━━\u001b[0m\u001b[37m\u001b[0m \u001b[1m0s\u001b[0m 14ms/step - accuracy: 0.9932 - loss: 0.0228 - val_accuracy: 1.0000 - val_loss: 0.0207\n",
            "Epoch 43/100\n",
            "\u001b[1m7/7\u001b[0m \u001b[32m━━━━━━━━━━━━━━━━━━━━\u001b[0m\u001b[37m\u001b[0m \u001b[1m0s\u001b[0m 24ms/step - accuracy: 0.9974 - loss: 0.0221 - val_accuracy: 1.0000 - val_loss: 0.0201\n",
            "Epoch 44/100\n",
            "\u001b[1m7/7\u001b[0m \u001b[32m━━━━━━━━━━━━━━━━━━━━\u001b[0m\u001b[37m\u001b[0m \u001b[1m0s\u001b[0m 16ms/step - accuracy: 0.9951 - loss: 0.0190 - val_accuracy: 1.0000 - val_loss: 0.0197\n",
            "Epoch 45/100\n",
            "\u001b[1m7/7\u001b[0m \u001b[32m━━━━━━━━━━━━━━━━━━━━\u001b[0m\u001b[37m\u001b[0m \u001b[1m0s\u001b[0m 13ms/step - accuracy: 0.9893 - loss: 0.0223 - val_accuracy: 1.0000 - val_loss: 0.0189\n",
            "Epoch 46/100\n",
            "\u001b[1m7/7\u001b[0m \u001b[32m━━━━━━━━━━━━━━━━━━━━\u001b[0m\u001b[37m\u001b[0m \u001b[1m0s\u001b[0m 14ms/step - accuracy: 0.9974 - loss: 0.0187 - val_accuracy: 1.0000 - val_loss: 0.0189\n",
            "Epoch 47/100\n",
            "\u001b[1m7/7\u001b[0m \u001b[32m━━━━━━━━━━━━━━━━━━━━\u001b[0m\u001b[37m\u001b[0m \u001b[1m0s\u001b[0m 13ms/step - accuracy: 0.9964 - loss: 0.0237 - val_accuracy: 1.0000 - val_loss: 0.0184\n",
            "Epoch 48/100\n",
            "\u001b[1m7/7\u001b[0m \u001b[32m━━━━━━━━━━━━━━━━━━━━\u001b[0m\u001b[37m\u001b[0m \u001b[1m0s\u001b[0m 15ms/step - accuracy: 0.9964 - loss: 0.0172 - val_accuracy: 1.0000 - val_loss: 0.0180\n",
            "Epoch 49/100\n",
            "\u001b[1m7/7\u001b[0m \u001b[32m━━━━━━━━━━━━━━━━━━━━\u001b[0m\u001b[37m\u001b[0m \u001b[1m0s\u001b[0m 16ms/step - accuracy: 0.9974 - loss: 0.0137 - val_accuracy: 1.0000 - val_loss: 0.0182\n",
            "Epoch 50/100\n",
            "\u001b[1m7/7\u001b[0m \u001b[32m━━━━━━━━━━━━━━━━━━━━\u001b[0m\u001b[37m\u001b[0m \u001b[1m0s\u001b[0m 23ms/step - accuracy: 0.9932 - loss: 0.0171 - val_accuracy: 0.9815 - val_loss: 0.0181\n",
            "Epoch 51/100\n",
            "\u001b[1m7/7\u001b[0m \u001b[32m━━━━━━━━━━━━━━━━━━━━\u001b[0m\u001b[37m\u001b[0m \u001b[1m0s\u001b[0m 20ms/step - accuracy: 0.9932 - loss: 0.0174 - val_accuracy: 1.0000 - val_loss: 0.0173\n",
            "Epoch 52/100\n",
            "\u001b[1m7/7\u001b[0m \u001b[32m━━━━━━━━━━━━━━━━━━━━\u001b[0m\u001b[37m\u001b[0m \u001b[1m0s\u001b[0m 15ms/step - accuracy: 1.0000 - loss: 0.0124 - val_accuracy: 1.0000 - val_loss: 0.0167\n",
            "Epoch 53/100\n",
            "\u001b[1m7/7\u001b[0m \u001b[32m━━━━━━━━━━━━━━━━━━━━\u001b[0m\u001b[37m\u001b[0m \u001b[1m0s\u001b[0m 15ms/step - accuracy: 1.0000 - loss: 0.0183 - val_accuracy: 1.0000 - val_loss: 0.0167\n",
            "Epoch 54/100\n",
            "\u001b[1m7/7\u001b[0m \u001b[32m━━━━━━━━━━━━━━━━━━━━\u001b[0m\u001b[37m\u001b[0m \u001b[1m0s\u001b[0m 17ms/step - accuracy: 1.0000 - loss: 0.0154 - val_accuracy: 1.0000 - val_loss: 0.0162\n",
            "Epoch 55/100\n",
            "\u001b[1m7/7\u001b[0m \u001b[32m━━━━━━━━━━━━━━━━━━━━\u001b[0m\u001b[37m\u001b[0m \u001b[1m0s\u001b[0m 16ms/step - accuracy: 1.0000 - loss: 0.0094 - val_accuracy: 1.0000 - val_loss: 0.0158\n",
            "Epoch 56/100\n",
            "\u001b[1m7/7\u001b[0m \u001b[32m━━━━━━━━━━━━━━━━━━━━\u001b[0m\u001b[37m\u001b[0m \u001b[1m0s\u001b[0m 20ms/step - accuracy: 1.0000 - loss: 0.0128 - val_accuracy: 1.0000 - val_loss: 0.0157\n",
            "Epoch 57/100\n",
            "\u001b[1m7/7\u001b[0m \u001b[32m━━━━━━━━━━━━━━━━━━━━\u001b[0m\u001b[37m\u001b[0m \u001b[1m0s\u001b[0m 15ms/step - accuracy: 1.0000 - loss: 0.0146 - val_accuracy: 1.0000 - val_loss: 0.0155\n",
            "Epoch 58/100\n",
            "\u001b[1m7/7\u001b[0m \u001b[32m━━━━━━━━━━━━━━━━━━━━\u001b[0m\u001b[37m\u001b[0m \u001b[1m0s\u001b[0m 12ms/step - accuracy: 1.0000 - loss: 0.0133 - val_accuracy: 1.0000 - val_loss: 0.0149\n",
            "Epoch 59/100\n",
            "\u001b[1m7/7\u001b[0m \u001b[32m━━━━━━━━━━━━━━━━━━━━\u001b[0m\u001b[37m\u001b[0m \u001b[1m0s\u001b[0m 14ms/step - accuracy: 1.0000 - loss: 0.0121 - val_accuracy: 0.9815 - val_loss: 0.0160\n",
            "Epoch 60/100\n",
            "\u001b[1m7/7\u001b[0m \u001b[32m━━━━━━━━━━━━━━━━━━━━\u001b[0m\u001b[37m\u001b[0m \u001b[1m0s\u001b[0m 13ms/step - accuracy: 1.0000 - loss: 0.0137 - val_accuracy: 0.9815 - val_loss: 0.0157\n",
            "Epoch 61/100\n",
            "\u001b[1m7/7\u001b[0m \u001b[32m━━━━━━━━━━━━━━━━━━━━\u001b[0m\u001b[37m\u001b[0m \u001b[1m0s\u001b[0m 17ms/step - accuracy: 1.0000 - loss: 0.0107 - val_accuracy: 1.0000 - val_loss: 0.0147\n",
            "Epoch 62/100\n",
            "\u001b[1m7/7\u001b[0m \u001b[32m━━━━━━━━━━━━━━━━━━━━\u001b[0m\u001b[37m\u001b[0m \u001b[1m0s\u001b[0m 13ms/step - accuracy: 1.0000 - loss: 0.0123 - val_accuracy: 1.0000 - val_loss: 0.0147\n",
            "Epoch 63/100\n",
            "\u001b[1m7/7\u001b[0m \u001b[32m━━━━━━━━━━━━━━━━━━━━\u001b[0m\u001b[37m\u001b[0m \u001b[1m0s\u001b[0m 13ms/step - accuracy: 1.0000 - loss: 0.0118 - val_accuracy: 0.9815 - val_loss: 0.0148\n",
            "Epoch 64/100\n",
            "\u001b[1m7/7\u001b[0m \u001b[32m━━━━━━━━━━━━━━━━━━━━\u001b[0m\u001b[37m\u001b[0m \u001b[1m0s\u001b[0m 12ms/step - accuracy: 1.0000 - loss: 0.0096 - val_accuracy: 0.9815 - val_loss: 0.0150\n",
            "Epoch 65/100\n",
            "\u001b[1m7/7\u001b[0m \u001b[32m━━━━━━━━━━━━━━━━━━━━\u001b[0m\u001b[37m\u001b[0m \u001b[1m0s\u001b[0m 16ms/step - accuracy: 1.0000 - loss: 0.0102 - val_accuracy: 0.9815 - val_loss: 0.0145\n",
            "Epoch 66/100\n",
            "\u001b[1m7/7\u001b[0m \u001b[32m━━━━━━━━━━━━━━━━━━━━\u001b[0m\u001b[37m\u001b[0m \u001b[1m0s\u001b[0m 16ms/step - accuracy: 1.0000 - loss: 0.0075 - val_accuracy: 0.9815 - val_loss: 0.0146\n",
            "Epoch 67/100\n",
            "\u001b[1m7/7\u001b[0m \u001b[32m━━━━━━━━━━━━━━━━━━━━\u001b[0m\u001b[37m\u001b[0m \u001b[1m0s\u001b[0m 13ms/step - accuracy: 1.0000 - loss: 0.0113 - val_accuracy: 0.9815 - val_loss: 0.0155\n",
            "Epoch 68/100\n",
            "\u001b[1m7/7\u001b[0m \u001b[32m━━━━━━━━━━━━━━━━━━━━\u001b[0m\u001b[37m\u001b[0m \u001b[1m0s\u001b[0m 13ms/step - accuracy: 1.0000 - loss: 0.0095 - val_accuracy: 0.9815 - val_loss: 0.0151\n",
            "Epoch 69/100\n",
            "\u001b[1m7/7\u001b[0m \u001b[32m━━━━━━━━━━━━━━━━━━━━\u001b[0m\u001b[37m\u001b[0m \u001b[1m0s\u001b[0m 13ms/step - accuracy: 1.0000 - loss: 0.0082 - val_accuracy: 0.9815 - val_loss: 0.0146\n",
            "Epoch 70/100\n",
            "\u001b[1m7/7\u001b[0m \u001b[32m━━━━━━━━━━━━━━━━━━━━\u001b[0m\u001b[37m\u001b[0m \u001b[1m0s\u001b[0m 17ms/step - accuracy: 1.0000 - loss: 0.0092 - val_accuracy: 0.9815 - val_loss: 0.0145\n",
            "Epoch 71/100\n",
            "\u001b[1m7/7\u001b[0m \u001b[32m━━━━━━━━━━━━━━━━━━━━\u001b[0m\u001b[37m\u001b[0m \u001b[1m0s\u001b[0m 13ms/step - accuracy: 1.0000 - loss: 0.0132 - val_accuracy: 0.9815 - val_loss: 0.0140\n",
            "Epoch 72/100\n",
            "\u001b[1m7/7\u001b[0m \u001b[32m━━━━━━━━━━━━━━━━━━━━\u001b[0m\u001b[37m\u001b[0m \u001b[1m0s\u001b[0m 15ms/step - accuracy: 1.0000 - loss: 0.0099 - val_accuracy: 0.9815 - val_loss: 0.0140\n",
            "Epoch 73/100\n",
            "\u001b[1m7/7\u001b[0m \u001b[32m━━━━━━━━━━━━━━━━━━━━\u001b[0m\u001b[37m\u001b[0m \u001b[1m0s\u001b[0m 14ms/step - accuracy: 1.0000 - loss: 0.0116 - val_accuracy: 0.9815 - val_loss: 0.0143\n",
            "Epoch 74/100\n",
            "\u001b[1m7/7\u001b[0m \u001b[32m━━━━━━━━━━━━━━━━━━━━\u001b[0m\u001b[37m\u001b[0m \u001b[1m0s\u001b[0m 16ms/step - accuracy: 1.0000 - loss: 0.0104 - val_accuracy: 0.9815 - val_loss: 0.0139\n",
            "Epoch 75/100\n",
            "\u001b[1m7/7\u001b[0m \u001b[32m━━━━━━━━━━━━━━━━━━━━\u001b[0m\u001b[37m\u001b[0m \u001b[1m0s\u001b[0m 13ms/step - accuracy: 1.0000 - loss: 0.0088 - val_accuracy: 0.9815 - val_loss: 0.0139\n",
            "Epoch 76/100\n",
            "\u001b[1m7/7\u001b[0m \u001b[32m━━━━━━━━━━━━━━━━━━━━\u001b[0m\u001b[37m\u001b[0m \u001b[1m0s\u001b[0m 13ms/step - accuracy: 1.0000 - loss: 0.0082 - val_accuracy: 0.9815 - val_loss: 0.0135\n",
            "Epoch 77/100\n",
            "\u001b[1m7/7\u001b[0m \u001b[32m━━━━━━━━━━━━━━━━━━━━\u001b[0m\u001b[37m\u001b[0m \u001b[1m0s\u001b[0m 14ms/step - accuracy: 1.0000 - loss: 0.0085 - val_accuracy: 0.9815 - val_loss: 0.0142\n",
            "Epoch 78/100\n",
            "\u001b[1m7/7\u001b[0m \u001b[32m━━━━━━━━━━━━━━━━━━━━\u001b[0m\u001b[37m\u001b[0m \u001b[1m0s\u001b[0m 17ms/step - accuracy: 1.0000 - loss: 0.0110 - val_accuracy: 0.9815 - val_loss: 0.0147\n",
            "Epoch 79/100\n",
            "\u001b[1m7/7\u001b[0m \u001b[32m━━━━━━━━━━━━━━━━━━━━\u001b[0m\u001b[37m\u001b[0m \u001b[1m0s\u001b[0m 16ms/step - accuracy: 1.0000 - loss: 0.0080 - val_accuracy: 0.9815 - val_loss: 0.0154\n",
            "Epoch 80/100\n",
            "\u001b[1m7/7\u001b[0m \u001b[32m━━━━━━━━━━━━━━━━━━━━\u001b[0m\u001b[37m\u001b[0m \u001b[1m0s\u001b[0m 13ms/step - accuracy: 1.0000 - loss: 0.0080 - val_accuracy: 0.9815 - val_loss: 0.0151\n",
            "Epoch 81/100\n",
            "\u001b[1m7/7\u001b[0m \u001b[32m━━━━━━━━━━━━━━━━━━━━\u001b[0m\u001b[37m\u001b[0m \u001b[1m0s\u001b[0m 13ms/step - accuracy: 1.0000 - loss: 0.0087 - val_accuracy: 0.9815 - val_loss: 0.0144\n",
            "Epoch 82/100\n",
            "\u001b[1m7/7\u001b[0m \u001b[32m━━━━━━━━━━━━━━━━━━━━\u001b[0m\u001b[37m\u001b[0m \u001b[1m0s\u001b[0m 15ms/step - accuracy: 1.0000 - loss: 0.0059 - val_accuracy: 0.9815 - val_loss: 0.0145\n",
            "Epoch 83/100\n",
            "\u001b[1m7/7\u001b[0m \u001b[32m━━━━━━━━━━━━━━━━━━━━\u001b[0m\u001b[37m\u001b[0m \u001b[1m0s\u001b[0m 18ms/step - accuracy: 1.0000 - loss: 0.0049 - val_accuracy: 0.9815 - val_loss: 0.0139\n",
            "Epoch 84/100\n",
            "\u001b[1m7/7\u001b[0m \u001b[32m━━━━━━━━━━━━━━━━━━━━\u001b[0m\u001b[37m\u001b[0m \u001b[1m0s\u001b[0m 15ms/step - accuracy: 1.0000 - loss: 0.0068 - val_accuracy: 0.9815 - val_loss: 0.0138\n",
            "Epoch 85/100\n",
            "\u001b[1m7/7\u001b[0m \u001b[32m━━━━━━━━━━━━━━━━━━━━\u001b[0m\u001b[37m\u001b[0m \u001b[1m0s\u001b[0m 17ms/step - accuracy: 1.0000 - loss: 0.0082 - val_accuracy: 0.9815 - val_loss: 0.0143\n",
            "Epoch 86/100\n",
            "\u001b[1m7/7\u001b[0m \u001b[32m━━━━━━━━━━━━━━━━━━━━\u001b[0m\u001b[37m\u001b[0m \u001b[1m0s\u001b[0m 16ms/step - accuracy: 1.0000 - loss: 0.0067 - val_accuracy: 0.9815 - val_loss: 0.0147\n",
            "Epoch 87/100\n",
            "\u001b[1m7/7\u001b[0m \u001b[32m━━━━━━━━━━━━━━━━━━━━\u001b[0m\u001b[37m\u001b[0m \u001b[1m0s\u001b[0m 13ms/step - accuracy: 1.0000 - loss: 0.0073 - val_accuracy: 0.9815 - val_loss: 0.0154\n",
            "Epoch 88/100\n",
            "\u001b[1m7/7\u001b[0m \u001b[32m━━━━━━━━━━━━━━━━━━━━\u001b[0m\u001b[37m\u001b[0m \u001b[1m0s\u001b[0m 12ms/step - accuracy: 1.0000 - loss: 0.0064 - val_accuracy: 0.9815 - val_loss: 0.0146\n",
            "Epoch 89/100\n",
            "\u001b[1m7/7\u001b[0m \u001b[32m━━━━━━━━━━━━━━━━━━━━\u001b[0m\u001b[37m\u001b[0m \u001b[1m0s\u001b[0m 13ms/step - accuracy: 1.0000 - loss: 0.0073 - val_accuracy: 0.9815 - val_loss: 0.0135\n",
            "Epoch 90/100\n",
            "\u001b[1m7/7\u001b[0m \u001b[32m━━━━━━━━━━━━━━━━━━━━\u001b[0m\u001b[37m\u001b[0m \u001b[1m0s\u001b[0m 14ms/step - accuracy: 1.0000 - loss: 0.0067 - val_accuracy: 0.9815 - val_loss: 0.0134\n",
            "Epoch 91/100\n",
            "\u001b[1m7/7\u001b[0m \u001b[32m━━━━━━━━━━━━━━━━━━━━\u001b[0m\u001b[37m\u001b[0m \u001b[1m0s\u001b[0m 14ms/step - accuracy: 1.0000 - loss: 0.0074 - val_accuracy: 0.9815 - val_loss: 0.0148\n",
            "Epoch 92/100\n",
            "\u001b[1m7/7\u001b[0m \u001b[32m━━━━━━━━━━━━━━━━━━━━\u001b[0m\u001b[37m\u001b[0m \u001b[1m0s\u001b[0m 13ms/step - accuracy: 1.0000 - loss: 0.0074 - val_accuracy: 0.9815 - val_loss: 0.0154\n",
            "Epoch 93/100\n",
            "\u001b[1m7/7\u001b[0m \u001b[32m━━━━━━━━━━━━━━━━━━━━\u001b[0m\u001b[37m\u001b[0m \u001b[1m0s\u001b[0m 13ms/step - accuracy: 1.0000 - loss: 0.0074 - val_accuracy: 0.9815 - val_loss: 0.0152\n",
            "Epoch 94/100\n",
            "\u001b[1m7/7\u001b[0m \u001b[32m━━━━━━━━━━━━━━━━━━━━\u001b[0m\u001b[37m\u001b[0m \u001b[1m0s\u001b[0m 13ms/step - accuracy: 1.0000 - loss: 0.0048 - val_accuracy: 0.9815 - val_loss: 0.0146\n",
            "Epoch 95/100\n",
            "\u001b[1m7/7\u001b[0m \u001b[32m━━━━━━━━━━━━━━━━━━━━\u001b[0m\u001b[37m\u001b[0m \u001b[1m0s\u001b[0m 16ms/step - accuracy: 1.0000 - loss: 0.0056 - val_accuracy: 0.9815 - val_loss: 0.0145\n",
            "Epoch 96/100\n",
            "\u001b[1m7/7\u001b[0m \u001b[32m━━━━━━━━━━━━━━━━━━━━\u001b[0m\u001b[37m\u001b[0m \u001b[1m0s\u001b[0m 13ms/step - accuracy: 1.0000 - loss: 0.0052 - val_accuracy: 0.9815 - val_loss: 0.0141\n",
            "Epoch 97/100\n",
            "\u001b[1m7/7\u001b[0m \u001b[32m━━━━━━━━━━━━━━━━━━━━\u001b[0m\u001b[37m\u001b[0m \u001b[1m0s\u001b[0m 15ms/step - accuracy: 1.0000 - loss: 0.0051 - val_accuracy: 0.9815 - val_loss: 0.0146\n",
            "Epoch 98/100\n",
            "\u001b[1m7/7\u001b[0m \u001b[32m━━━━━━━━━━━━━━━━━━━━\u001b[0m\u001b[37m\u001b[0m \u001b[1m0s\u001b[0m 13ms/step - accuracy: 1.0000 - loss: 0.0043 - val_accuracy: 0.9815 - val_loss: 0.0146\n",
            "Epoch 99/100\n",
            "\u001b[1m7/7\u001b[0m \u001b[32m━━━━━━━━━━━━━━━━━━━━\u001b[0m\u001b[37m\u001b[0m \u001b[1m0s\u001b[0m 17ms/step - accuracy: 1.0000 - loss: 0.0071 - val_accuracy: 0.9815 - val_loss: 0.0156\n",
            "Epoch 100/100\n",
            "\u001b[1m7/7\u001b[0m \u001b[32m━━━━━━━━━━━━━━━━━━━━\u001b[0m\u001b[37m\u001b[0m \u001b[1m0s\u001b[0m 13ms/step - accuracy: 1.0000 - loss: 0.0050 - val_accuracy: 0.9815 - val_loss: 0.0159\n"
          ]
        }
      ],
      "source": [
        "history = model.fit(X_train, y_train, epochs=100, batch_size=32, validation_split=0.2)"
      ]
    },
    {
      "cell_type": "code",
      "execution_count": 27,
      "metadata": {
        "colab": {
          "base_uri": "https://localhost:8080/"
        },
        "id": "3oWgGKWby3YI",
        "outputId": "45266a49-8827-449c-94a0-13fe411a3cc3"
      },
      "outputs": [
        {
          "name": "stdout",
          "output_type": "stream",
          "text": [
            "\u001b[1m3/3\u001b[0m \u001b[32m━━━━━━━━━━━━━━━━━━━━\u001b[0m\u001b[37m\u001b[0m \u001b[1m0s\u001b[0m 17ms/step - accuracy: 1.0000 - loss: 0.0122\n",
            "Test accuracy: 1.0\n"
          ]
        }
      ],
      "source": [
        "# Evaluate the model\n",
        "loss, accuracy = model.evaluate(X_test, y_test)\n",
        "print('Test accuracy:', accuracy)"
      ]
    },
    {
      "cell_type": "markdown",
      "metadata": {
        "id": "cjcxUIou440b"
      },
      "source": [
        "### Functional APIs"
      ]
    },
    {
      "cell_type": "code",
      "execution_count": 28,
      "metadata": {
        "colab": {
          "base_uri": "https://localhost:8080/",
          "height": 1000
        },
        "id": "6DnQAGu92aiD",
        "outputId": "a63d2124-1845-4b10-ee92-7fb9eaeacc0b"
      },
      "outputs": [
        {
          "data": {
            "text/html": [
              "<pre style=\"white-space:pre;overflow-x:auto;line-height:normal;font-family:Menlo,'DejaVu Sans Mono',consolas,'Courier New',monospace\"><span style=\"font-weight: bold\">Model: \"functional_4\"</span>\n",
              "</pre>\n"
            ],
            "text/plain": [
              "\u001b[1mModel: \"functional_4\"\u001b[0m\n"
            ]
          },
          "metadata": {},
          "output_type": "display_data"
        },
        {
          "data": {
            "text/html": [
              "<pre style=\"white-space:pre;overflow-x:auto;line-height:normal;font-family:Menlo,'DejaVu Sans Mono',consolas,'Courier New',monospace\">┏━━━━━━━━━━━━━━━━━━━━━┳━━━━━━━━━━━━━━━━━━━┳━━━━━━━━━━━━┳━━━━━━━━━━━━━━━━━━━┓\n",
              "┃<span style=\"font-weight: bold\"> Layer (type)        </span>┃<span style=\"font-weight: bold\"> Output Shape      </span>┃<span style=\"font-weight: bold\">    Param # </span>┃<span style=\"font-weight: bold\"> Connected to      </span>┃\n",
              "┡━━━━━━━━━━━━━━━━━━━━━╇━━━━━━━━━━━━━━━━━━━╇━━━━━━━━━━━━╇━━━━━━━━━━━━━━━━━━━┩\n",
              "│ input_layer_4       │ (<span style=\"color: #00d7ff; text-decoration-color: #00d7ff\">None</span>, <span style=\"color: #00af00; text-decoration-color: #00af00\">4</span>)         │          <span style=\"color: #00af00; text-decoration-color: #00af00\">0</span> │ -                 │\n",
              "│ (<span style=\"color: #0087ff; text-decoration-color: #0087ff\">InputLayer</span>)        │                   │            │                   │\n",
              "├─────────────────────┼───────────────────┼────────────┼───────────────────┤\n",
              "│ dense_13 (<span style=\"color: #0087ff; text-decoration-color: #0087ff\">Dense</span>)    │ (<span style=\"color: #00d7ff; text-decoration-color: #00d7ff\">None</span>, <span style=\"color: #00af00; text-decoration-color: #00af00\">64</span>)        │        <span style=\"color: #00af00; text-decoration-color: #00af00\">320</span> │ input_layer_4[<span style=\"color: #00af00; text-decoration-color: #00af00\">0</span>]… │\n",
              "├─────────────────────┼───────────────────┼────────────┼───────────────────┤\n",
              "│ dense_14 (<span style=\"color: #0087ff; text-decoration-color: #0087ff\">Dense</span>)    │ (<span style=\"color: #00d7ff; text-decoration-color: #00d7ff\">None</span>, <span style=\"color: #00af00; text-decoration-color: #00af00\">32</span>)        │      <span style=\"color: #00af00; text-decoration-color: #00af00\">2,080</span> │ dense_13[<span style=\"color: #00af00; text-decoration-color: #00af00\">0</span>][<span style=\"color: #00af00; text-decoration-color: #00af00\">0</span>]    │\n",
              "├─────────────────────┼───────────────────┼────────────┼───────────────────┤\n",
              "│ dense_15 (<span style=\"color: #0087ff; text-decoration-color: #0087ff\">Dense</span>)    │ (<span style=\"color: #00d7ff; text-decoration-color: #00d7ff\">None</span>, <span style=\"color: #00af00; text-decoration-color: #00af00\">32</span>)        │      <span style=\"color: #00af00; text-decoration-color: #00af00\">2,080</span> │ dense_13[<span style=\"color: #00af00; text-decoration-color: #00af00\">0</span>][<span style=\"color: #00af00; text-decoration-color: #00af00\">0</span>]    │\n",
              "├─────────────────────┼───────────────────┼────────────┼───────────────────┤\n",
              "│ add_1 (<span style=\"color: #0087ff; text-decoration-color: #0087ff\">Add</span>)         │ (<span style=\"color: #00d7ff; text-decoration-color: #00d7ff\">None</span>, <span style=\"color: #00af00; text-decoration-color: #00af00\">32</span>)        │          <span style=\"color: #00af00; text-decoration-color: #00af00\">0</span> │ dense_14[<span style=\"color: #00af00; text-decoration-color: #00af00\">0</span>][<span style=\"color: #00af00; text-decoration-color: #00af00\">0</span>],   │\n",
              "│                     │                   │            │ dense_15[<span style=\"color: #00af00; text-decoration-color: #00af00\">0</span>][<span style=\"color: #00af00; text-decoration-color: #00af00\">0</span>]    │\n",
              "├─────────────────────┼───────────────────┼────────────┼───────────────────┤\n",
              "│ dense_16 (<span style=\"color: #0087ff; text-decoration-color: #0087ff\">Dense</span>)    │ (<span style=\"color: #00d7ff; text-decoration-color: #00d7ff\">None</span>, <span style=\"color: #00af00; text-decoration-color: #00af00\">3</span>)         │         <span style=\"color: #00af00; text-decoration-color: #00af00\">99</span> │ add_1[<span style=\"color: #00af00; text-decoration-color: #00af00\">0</span>][<span style=\"color: #00af00; text-decoration-color: #00af00\">0</span>]       │\n",
              "└─────────────────────┴───────────────────┴────────────┴───────────────────┘\n",
              "</pre>\n"
            ],
            "text/plain": [
              "┏━━━━━━━━━━━━━━━━━━━━━┳━━━━━━━━━━━━━━━━━━━┳━━━━━━━━━━━━┳━━━━━━━━━━━━━━━━━━━┓\n",
              "┃\u001b[1m \u001b[0m\u001b[1mLayer (type)       \u001b[0m\u001b[1m \u001b[0m┃\u001b[1m \u001b[0m\u001b[1mOutput Shape     \u001b[0m\u001b[1m \u001b[0m┃\u001b[1m \u001b[0m\u001b[1m   Param #\u001b[0m\u001b[1m \u001b[0m┃\u001b[1m \u001b[0m\u001b[1mConnected to     \u001b[0m\u001b[1m \u001b[0m┃\n",
              "┡━━━━━━━━━━━━━━━━━━━━━╇━━━━━━━━━━━━━━━━━━━╇━━━━━━━━━━━━╇━━━━━━━━━━━━━━━━━━━┩\n",
              "│ input_layer_4       │ (\u001b[38;5;45mNone\u001b[0m, \u001b[38;5;34m4\u001b[0m)         │          \u001b[38;5;34m0\u001b[0m │ -                 │\n",
              "│ (\u001b[38;5;33mInputLayer\u001b[0m)        │                   │            │                   │\n",
              "├─────────────────────┼───────────────────┼────────────┼───────────────────┤\n",
              "│ dense_13 (\u001b[38;5;33mDense\u001b[0m)    │ (\u001b[38;5;45mNone\u001b[0m, \u001b[38;5;34m64\u001b[0m)        │        \u001b[38;5;34m320\u001b[0m │ input_layer_4[\u001b[38;5;34m0\u001b[0m]… │\n",
              "├─────────────────────┼───────────────────┼────────────┼───────────────────┤\n",
              "│ dense_14 (\u001b[38;5;33mDense\u001b[0m)    │ (\u001b[38;5;45mNone\u001b[0m, \u001b[38;5;34m32\u001b[0m)        │      \u001b[38;5;34m2,080\u001b[0m │ dense_13[\u001b[38;5;34m0\u001b[0m][\u001b[38;5;34m0\u001b[0m]    │\n",
              "├─────────────────────┼───────────────────┼────────────┼───────────────────┤\n",
              "│ dense_15 (\u001b[38;5;33mDense\u001b[0m)    │ (\u001b[38;5;45mNone\u001b[0m, \u001b[38;5;34m32\u001b[0m)        │      \u001b[38;5;34m2,080\u001b[0m │ dense_13[\u001b[38;5;34m0\u001b[0m][\u001b[38;5;34m0\u001b[0m]    │\n",
              "├─────────────────────┼───────────────────┼────────────┼───────────────────┤\n",
              "│ add_1 (\u001b[38;5;33mAdd\u001b[0m)         │ (\u001b[38;5;45mNone\u001b[0m, \u001b[38;5;34m32\u001b[0m)        │          \u001b[38;5;34m0\u001b[0m │ dense_14[\u001b[38;5;34m0\u001b[0m][\u001b[38;5;34m0\u001b[0m],   │\n",
              "│                     │                   │            │ dense_15[\u001b[38;5;34m0\u001b[0m][\u001b[38;5;34m0\u001b[0m]    │\n",
              "├─────────────────────┼───────────────────┼────────────┼───────────────────┤\n",
              "│ dense_16 (\u001b[38;5;33mDense\u001b[0m)    │ (\u001b[38;5;45mNone\u001b[0m, \u001b[38;5;34m3\u001b[0m)         │         \u001b[38;5;34m99\u001b[0m │ add_1[\u001b[38;5;34m0\u001b[0m][\u001b[38;5;34m0\u001b[0m]       │\n",
              "└─────────────────────┴───────────────────┴────────────┴───────────────────┘\n"
            ]
          },
          "metadata": {},
          "output_type": "display_data"
        },
        {
          "data": {
            "text/html": [
              "<pre style=\"white-space:pre;overflow-x:auto;line-height:normal;font-family:Menlo,'DejaVu Sans Mono',consolas,'Courier New',monospace\"><span style=\"font-weight: bold\"> Total params: </span><span style=\"color: #00af00; text-decoration-color: #00af00\">4,579</span> (17.89 KB)\n",
              "</pre>\n"
            ],
            "text/plain": [
              "\u001b[1m Total params: \u001b[0m\u001b[38;5;34m4,579\u001b[0m (17.89 KB)\n"
            ]
          },
          "metadata": {},
          "output_type": "display_data"
        },
        {
          "data": {
            "text/html": [
              "<pre style=\"white-space:pre;overflow-x:auto;line-height:normal;font-family:Menlo,'DejaVu Sans Mono',consolas,'Courier New',monospace\"><span style=\"font-weight: bold\"> Trainable params: </span><span style=\"color: #00af00; text-decoration-color: #00af00\">4,579</span> (17.89 KB)\n",
              "</pre>\n"
            ],
            "text/plain": [
              "\u001b[1m Trainable params: \u001b[0m\u001b[38;5;34m4,579\u001b[0m (17.89 KB)\n"
            ]
          },
          "metadata": {},
          "output_type": "display_data"
        },
        {
          "data": {
            "text/html": [
              "<pre style=\"white-space:pre;overflow-x:auto;line-height:normal;font-family:Menlo,'DejaVu Sans Mono',consolas,'Courier New',monospace\"><span style=\"font-weight: bold\"> Non-trainable params: </span><span style=\"color: #00af00; text-decoration-color: #00af00\">0</span> (0.00 B)\n",
              "</pre>\n"
            ],
            "text/plain": [
              "\u001b[1m Non-trainable params: \u001b[0m\u001b[38;5;34m0\u001b[0m (0.00 B)\n"
            ]
          },
          "metadata": {},
          "output_type": "display_data"
        },
        {
          "name": "stdout",
          "output_type": "stream",
          "text": [
            "None\n",
            "Epoch 1/20\n",
            "\u001b[1m7/7\u001b[0m \u001b[32m━━━━━━━━━━━━━━━━━━━━\u001b[0m\u001b[37m\u001b[0m \u001b[1m2s\u001b[0m 61ms/step - accuracy: 0.2205 - loss: 0.7495 - val_accuracy: 0.1667 - val_loss: 0.6666\n",
            "Epoch 2/20\n",
            "\u001b[1m7/7\u001b[0m \u001b[32m━━━━━━━━━━━━━━━━━━━━\u001b[0m\u001b[37m\u001b[0m \u001b[1m0s\u001b[0m 16ms/step - accuracy: 0.3324 - loss: 0.6249 - val_accuracy: 0.7037 - val_loss: 0.5556\n",
            "Epoch 3/20\n",
            "\u001b[1m7/7\u001b[0m \u001b[32m━━━━━━━━━━━━━━━━━━━━\u001b[0m\u001b[37m\u001b[0m \u001b[1m0s\u001b[0m 15ms/step - accuracy: 0.8023 - loss: 0.5311 - val_accuracy: 0.9815 - val_loss: 0.4662\n",
            "Epoch 4/20\n",
            "\u001b[1m7/7\u001b[0m \u001b[32m━━━━━━━━━━━━━━━━━━━━\u001b[0m\u001b[37m\u001b[0m \u001b[1m0s\u001b[0m 24ms/step - accuracy: 0.9750 - loss: 0.4526 - val_accuracy: 0.9815 - val_loss: 0.3923\n",
            "Epoch 5/20\n",
            "\u001b[1m7/7\u001b[0m \u001b[32m━━━━━━━━━━━━━━━━━━━━\u001b[0m\u001b[37m\u001b[0m \u001b[1m0s\u001b[0m 26ms/step - accuracy: 0.9739 - loss: 0.3847 - val_accuracy: 1.0000 - val_loss: 0.3301\n",
            "Epoch 6/20\n",
            "\u001b[1m7/7\u001b[0m \u001b[32m━━━━━━━━━━━━━━━━━━━━\u001b[0m\u001b[37m\u001b[0m \u001b[1m0s\u001b[0m 24ms/step - accuracy: 0.9660 - loss: 0.3306 - val_accuracy: 0.9815 - val_loss: 0.2778\n",
            "Epoch 7/20\n",
            "\u001b[1m7/7\u001b[0m \u001b[32m━━━━━━━━━━━━━━━━━━━━\u001b[0m\u001b[37m\u001b[0m \u001b[1m0s\u001b[0m 16ms/step - accuracy: 0.9634 - loss: 0.2724 - val_accuracy: 0.9630 - val_loss: 0.2343\n",
            "Epoch 8/20\n",
            "\u001b[1m7/7\u001b[0m \u001b[32m━━━━━━━━━━━━━━━━━━━━\u001b[0m\u001b[37m\u001b[0m \u001b[1m0s\u001b[0m 15ms/step - accuracy: 0.9693 - loss: 0.2258 - val_accuracy: 0.9630 - val_loss: 0.1988\n",
            "Epoch 9/20\n",
            "\u001b[1m7/7\u001b[0m \u001b[32m━━━━━━━━━━━━━━━━━━━━\u001b[0m\u001b[37m\u001b[0m \u001b[1m0s\u001b[0m 14ms/step - accuracy: 0.9712 - loss: 0.2048 - val_accuracy: 0.9630 - val_loss: 0.1694\n",
            "Epoch 10/20\n",
            "\u001b[1m7/7\u001b[0m \u001b[32m━━━━━━━━━━━━━━━━━━━━\u001b[0m\u001b[37m\u001b[0m \u001b[1m0s\u001b[0m 14ms/step - accuracy: 0.9591 - loss: 0.1767 - val_accuracy: 0.9815 - val_loss: 0.1448\n",
            "Epoch 11/20\n",
            "\u001b[1m7/7\u001b[0m \u001b[32m━━━━━━━━━━━━━━━━━━━━\u001b[0m\u001b[37m\u001b[0m \u001b[1m0s\u001b[0m 17ms/step - accuracy: 0.9695 - loss: 0.1551 - val_accuracy: 0.9815 - val_loss: 0.1234\n",
            "Epoch 12/20\n",
            "\u001b[1m7/7\u001b[0m \u001b[32m━━━━━━━━━━━━━━━━━━━━\u001b[0m\u001b[37m\u001b[0m \u001b[1m0s\u001b[0m 20ms/step - accuracy: 0.9712 - loss: 0.1305 - val_accuracy: 0.9815 - val_loss: 0.1056\n",
            "Epoch 13/20\n",
            "\u001b[1m7/7\u001b[0m \u001b[32m━━━━━━━━━━━━━━━━━━━━\u001b[0m\u001b[37m\u001b[0m \u001b[1m0s\u001b[0m 19ms/step - accuracy: 0.9599 - loss: 0.1072 - val_accuracy: 1.0000 - val_loss: 0.0909\n",
            "Epoch 14/20\n",
            "\u001b[1m7/7\u001b[0m \u001b[32m━━━━━━━━━━━━━━━━━━━━\u001b[0m\u001b[37m\u001b[0m \u001b[1m0s\u001b[0m 15ms/step - accuracy: 0.9750 - loss: 0.1012 - val_accuracy: 1.0000 - val_loss: 0.0774\n",
            "Epoch 15/20\n",
            "\u001b[1m7/7\u001b[0m \u001b[32m━━━━━━━━━━━━━━━━━━━━\u001b[0m\u001b[37m\u001b[0m \u001b[1m0s\u001b[0m 18ms/step - accuracy: 0.9718 - loss: 0.0911 - val_accuracy: 1.0000 - val_loss: 0.0666\n",
            "Epoch 16/20\n",
            "\u001b[1m7/7\u001b[0m \u001b[32m━━━━━━━━━━━━━━━━━━━━\u001b[0m\u001b[37m\u001b[0m \u001b[1m0s\u001b[0m 17ms/step - accuracy: 0.9811 - loss: 0.0711 - val_accuracy: 1.0000 - val_loss: 0.0582\n",
            "Epoch 17/20\n",
            "\u001b[1m7/7\u001b[0m \u001b[32m━━━━━━━━━━━━━━━━━━━━\u001b[0m\u001b[37m\u001b[0m \u001b[1m0s\u001b[0m 16ms/step - accuracy: 0.9731 - loss: 0.0710 - val_accuracy: 1.0000 - val_loss: 0.0514\n",
            "Epoch 18/20\n",
            "\u001b[1m7/7\u001b[0m \u001b[32m━━━━━━━━━━━━━━━━━━━━\u001b[0m\u001b[37m\u001b[0m \u001b[1m0s\u001b[0m 15ms/step - accuracy: 0.9796 - loss: 0.0616 - val_accuracy: 1.0000 - val_loss: 0.0459\n",
            "Epoch 19/20\n",
            "\u001b[1m7/7\u001b[0m \u001b[32m━━━━━━━━━━━━━━━━━━━━\u001b[0m\u001b[37m\u001b[0m \u001b[1m0s\u001b[0m 15ms/step - accuracy: 0.9731 - loss: 0.0566 - val_accuracy: 1.0000 - val_loss: 0.0414\n",
            "Epoch 20/20\n",
            "\u001b[1m7/7\u001b[0m \u001b[32m━━━━━━━━━━━━━━━━━━━━\u001b[0m\u001b[37m\u001b[0m \u001b[1m0s\u001b[0m 21ms/step - accuracy: 0.9806 - loss: 0.0471 - val_accuracy: 1.0000 - val_loss: 0.0378\n",
            "\u001b[1m3/3\u001b[0m \u001b[32m━━━━━━━━━━━━━━━━━━━━\u001b[0m\u001b[37m\u001b[0m \u001b[1m0s\u001b[0m 15ms/step - accuracy: 0.9808 - loss: 0.0491\n",
            "Test accuracy: 0.9850746393203735\n"
          ]
        }
      ],
      "source": [
        "import tensorflow as tf\n",
        "from tensorflow.keras import Input, Model\n",
        "from tensorflow.keras.layers import Dense\n",
        "\n",
        "\n",
        "# Define a simple model with Functional API\n",
        "input_layer = Input(shape=(input_dim,))\n",
        "x = Dense(64, activation='relu')(input_layer)\n",
        "x1 = Dense(32, activation='relu')(x)\n",
        "x2 = Dense(32, activation='relu')(x)\n",
        "output_layer = Dense(output_dim, activation='softmax')(x1+x2)\n",
        "\n",
        "model = Model(inputs=input_layer, outputs=output_layer)\n",
        "\n",
        "model.compile(optimizer='adam', loss='binary_crossentropy', metrics=['accuracy'])\n",
        "print(model.summary())\n",
        "history = model.fit(X_train, y_train, epochs=20, batch_size=32, validation_split=0.2)\n",
        "# Evaluate the model\n",
        "loss, accuracy = model.evaluate(X_test, y_test)\n",
        "print('Test accuracy:', accuracy)"
      ]
    },
    {
      "cell_type": "code",
      "execution_count": 29,
      "metadata": {
        "colab": {
          "base_uri": "https://localhost:8080/",
          "height": 927
        },
        "id": "x1jjKTqVzIiF",
        "outputId": "c5447084-295f-40c9-ddd5-d0a5761f8467"
      },
      "outputs": [
        {
          "data": {
            "image/png": "[encoded data removed]",
            "text/plain": [
              "<Figure size 640x480 with 1 Axes>"
            ]
          },
          "metadata": {},
          "output_type": "display_data"
        },
        {
          "data": {
            "image/png": "[encoded data removed]",
            "text/plain": [
              "<Figure size 640x480 with 1 Axes>"
            ]
          },
          "metadata": {},
          "output_type": "display_data"
        }
      ],
      "source": [
        "# prompt: plot learning curves\n",
        "import matplotlib.pyplot as plt\n",
        "\n",
        "# Plot training & validation accuracy values\n",
        "plt.plot(history.history['accuracy'])\n",
        "plt.plot(history.history['val_accuracy'])\n",
        "plt.title('Model accuracy')\n",
        "plt.ylabel('Accuracy')\n",
        "plt.xlabel('Epoch')\n",
        "plt.legend(['Train', 'Validation'], loc='upper left')\n",
        "plt.show()\n",
        "\n",
        "# Plot training & validation loss values\n",
        "plt.plot(history.history['loss'])\n",
        "plt.plot(history.history['val_loss'])\n",
        "plt.title('Model loss')\n",
        "plt.ylabel('Loss')\n",
        "plt.xlabel('Epoch')\n",
        "plt.legend(['Train', 'Validation'], loc='upper left')\n",
        "plt.show()"
      ]
    },
    {
      "cell_type": "markdown",
      "metadata": {
        "id": "4VLS7NnS4fhy"
      },
      "source": [
        "# PyTorch"
      ]
    },
    {
      "cell_type": "code",
      "execution_count": 30,
      "metadata": {
        "colab": {
          "base_uri": "https://localhost:8080/"
        },
        "id": "sE2Id77TViRF",
        "outputId": "b2835e7a-4114-47a9-b40f-0254f0ae8111"
      },
      "outputs": [
        {
          "name": "stdout",
          "output_type": "stream",
          "text": [
            "Requirement already satisfied: torch in /home/gigitarasi/Desktop/VSC_WORKSPACE/vEnv/lib/python3.12/site-packages (2.6.0)\n",
            "Requirement already satisfied: filelock in /home/gigitarasi/Desktop/VSC_WORKSPACE/vEnv/lib/python3.12/site-packages (from torch) (3.17.0)\n",
            "Requirement already satisfied: typing-extensions>=4.10.0 in /home/gigitarasi/Desktop/VSC_WORKSPACE/vEnv/lib/python3.12/site-packages (from torch) (4.12.2)\n",
            "Requirement already satisfied: networkx in /home/gigitarasi/Desktop/VSC_WORKSPACE/vEnv/lib/python3.12/site-packages (from torch) (3.4.2)\n",
            "Requirement already satisfied: jinja2 in /home/gigitarasi/Desktop/VSC_WORKSPACE/vEnv/lib/python3.12/site-packages (from torch) (3.1.5)\n",
            "Requirement already satisfied: fsspec in /home/gigitarasi/Desktop/VSC_WORKSPACE/vEnv/lib/python3.12/site-packages (from torch) (2025.2.0)\n",
            "Requirement already satisfied: nvidia-cuda-nvrtc-cu12==12.4.127 in /home/gigitarasi/Desktop/VSC_WORKSPACE/vEnv/lib/python3.12/site-packages (from torch) (12.4.127)\n",
            "Requirement already satisfied: nvidia-cuda-runtime-cu12==12.4.127 in /home/gigitarasi/Desktop/VSC_WORKSPACE/vEnv/lib/python3.12/site-packages (from torch) (12.4.127)\n",
            "Requirement already satisfied: nvidia-cuda-cupti-cu12==12.4.127 in /home/gigitarasi/Desktop/VSC_WORKSPACE/vEnv/lib/python3.12/site-packages (from torch) (12.4.127)\n",
            "Requirement already satisfied: nvidia-cudnn-cu12==9.1.0.70 in /home/gigitarasi/Desktop/VSC_WORKSPACE/vEnv/lib/python3.12/site-packages (from torch) (9.1.0.70)\n",
            "Requirement already satisfied: nvidia-cublas-cu12==12.4.5.8 in /home/gigitarasi/Desktop/VSC_WORKSPACE/vEnv/lib/python3.12/site-packages (from torch) (12.4.5.8)\n",
            "Requirement already satisfied: nvidia-cufft-cu12==11.2.1.3 in /home/gigitarasi/Desktop/VSC_WORKSPACE/vEnv/lib/python3.12/site-packages (from torch) (11.2.1.3)\n",
            "Requirement already satisfied: nvidia-curand-cu12==10.3.5.147 in /home/gigitarasi/Desktop/VSC_WORKSPACE/vEnv/lib/python3.12/site-packages (from torch) (10.3.5.147)\n",
            "Requirement already satisfied: nvidia-cusolver-cu12==11.6.1.9 in /home/gigitarasi/Desktop/VSC_WORKSPACE/vEnv/lib/python3.12/site-packages (from torch) (11.6.1.9)\n",
            "Requirement already satisfied: nvidia-cusparse-cu12==12.3.1.170 in /home/gigitarasi/Desktop/VSC_WORKSPACE/vEnv/lib/python3.12/site-packages (from torch) (12.3.1.170)\n",
            "Requirement already satisfied: nvidia-cusparselt-cu12==0.6.2 in /home/gigitarasi/Desktop/VSC_WORKSPACE/vEnv/lib/python3.12/site-packages (from torch) (0.6.2)\n",
            "Requirement already satisfied: nvidia-nccl-cu12==2.21.5 in /home/gigitarasi/Desktop/VSC_WORKSPACE/vEnv/lib/python3.12/site-packages (from torch) (2.21.5)\n",
            "Requirement already satisfied: nvidia-nvtx-cu12==12.4.127 in /home/gigitarasi/Desktop/VSC_WORKSPACE/vEnv/lib/python3.12/site-packages (from torch) (12.4.127)\n",
            "Requirement already satisfied: nvidia-nvjitlink-cu12==12.4.127 in /home/gigitarasi/Desktop/VSC_WORKSPACE/vEnv/lib/python3.12/site-packages (from torch) (12.4.127)\n",
            "Requirement already satisfied: triton==3.2.0 in /home/gigitarasi/Desktop/VSC_WORKSPACE/vEnv/lib/python3.12/site-packages (from torch) (3.2.0)\n",
            "Requirement already satisfied: setuptools in /home/gigitarasi/Desktop/VSC_WORKSPACE/vEnv/lib/python3.12/site-packages (from torch) (75.8.0)\n",
            "Requirement already satisfied: sympy==1.13.1 in /home/gigitarasi/Desktop/VSC_WORKSPACE/vEnv/lib/python3.12/site-packages (from torch) (1.13.1)\n",
            "Requirement already satisfied: mpmath<1.4,>=1.1.0 in /home/gigitarasi/Desktop/VSC_WORKSPACE/vEnv/lib/python3.12/site-packages (from sympy==1.13.1->torch) (1.3.0)\n",
            "Requirement already satisfied: MarkupSafe>=2.0 in /home/gigitarasi/Desktop/VSC_WORKSPACE/vEnv/lib/python3.12/site-packages (from jinja2->torch) (3.0.2)\n"
          ]
        }
      ],
      "source": [
        "!pip install torch # check your device GPU drivers and install the right version following https://pytorch.org/get-started/locally/"
      ]
    },
    {
      "cell_type": "code",
      "execution_count": 31,
      "metadata": {
        "id": "EKu1yLj0VTw5"
      },
      "outputs": [],
      "source": [
        "import torch"
      ]
    },
    {
      "cell_type": "markdown",
      "metadata": {
        "id": "IeWO44b9TLH1"
      },
      "source": [
        "## Basic tensor operations"
      ]
    },
    {
      "cell_type": "markdown",
      "metadata": {
        "id": "Z71M7OPNUhE3"
      },
      "source": [
        "Tensors can be declared in many ways"
      ]
    },
    {
      "cell_type": "code",
      "execution_count": 32,
      "metadata": {
        "id": "MwZg1CuhTcXP"
      },
      "outputs": [],
      "source": [
        "a = torch.tensor([[1, 2], [3, 4]])\n",
        "b = torch.tensor([[5, 6], [7, 8]])\n",
        "c = torch.zeros((2, 2))\n",
        "d = torch.ones((2, 2))\n",
        "e = torch.rand((2, 2))"
      ]
    },
    {
      "cell_type": "markdown",
      "metadata": {
        "id": "FUdwkOHcUoIy"
      },
      "source": [
        "Can be converted directly form numpy arrays"
      ]
    },
    {
      "cell_type": "code",
      "execution_count": 33,
      "metadata": {
        "id": "jHFlC5ihTlZs"
      },
      "outputs": [],
      "source": [
        "ds = torch.from_numpy(X_train.values)"
      ]
    },
    {
      "cell_type": "code",
      "execution_count": 34,
      "metadata": {
        "colab": {
          "base_uri": "https://localhost:8080/"
        },
        "id": "bebe6ccQUFph",
        "outputId": "1d10ec51-5545-401b-9257-827fe1153517"
      },
      "outputs": [
        {
          "data": {
            "text/plain": [
              "torch.Size([266, 4])"
            ]
          },
          "execution_count": 34,
          "metadata": {},
          "output_type": "execute_result"
        }
      ],
      "source": [
        "ds.shape"
      ]
    },
    {
      "cell_type": "markdown",
      "metadata": {
        "id": "qesRaOCRUdMh"
      },
      "source": [
        "Slicing is supported just like numpy"
      ]
    },
    {
      "cell_type": "code",
      "execution_count": 35,
      "metadata": {
        "colab": {
          "base_uri": "https://localhost:8080/"
        },
        "id": "3LhhGSO6UHwN",
        "outputId": "e3b9f7a3-3524-4ee2-bfd1-af7c6bbdccc5"
      },
      "outputs": [
        {
          "data": {
            "text/plain": [
              "tensor([-1.2257,  0.3230], dtype=torch.float64)"
            ]
          },
          "execution_count": 35,
          "metadata": {},
          "output_type": "execute_result"
        }
      ],
      "source": [
        "ds[1,:2]"
      ]
    },
    {
      "cell_type": "markdown",
      "metadata": {
        "id": "pX0ps1yNbZeC"
      },
      "source": [
        "Lot of operations and operators are defined in the library (likely all the ones that you need)"
      ]
    },
    {
      "cell_type": "code",
      "execution_count": 36,
      "metadata": {
        "colab": {
          "base_uri": "https://localhost:8080/"
        },
        "id": "4Ga-kQYWU4Eq",
        "outputId": "f956a141-2a31-4a74-e4bf-3025378158b9"
      },
      "outputs": [
        {
          "data": {
            "text/plain": [
              "device(type='cpu')"
            ]
          },
          "execution_count": 36,
          "metadata": {},
          "output_type": "execute_result"
        }
      ],
      "source": [
        "ds.device"
      ]
    },
    {
      "cell_type": "code",
      "execution_count": 37,
      "metadata": {
        "colab": {
          "base_uri": "https://localhost:8080/"
        },
        "id": "lrRt0sIjU7qb",
        "outputId": "f928d22d-13e9-411e-cbba-892f02758b5b"
      },
      "outputs": [
        {
          "ename": "RuntimeError",
          "evalue": "Found no NVIDIA driver on your system. Please check that you have an NVIDIA GPU and installed a driver from http://www.nvidia.com/Download/index.aspx",
          "output_type": "error",
          "traceback": [
            "\u001b[0;31m---------------------------------------------------------------------------\u001b[0m",
            "\u001b[0;31mRuntimeError\u001b[0m                              Traceback (most recent call last)",
            "Cell \u001b[0;32mIn[37], line 1\u001b[0m\n\u001b[0;32m----> 1\u001b[0m \u001b[43mds\u001b[49m\u001b[38;5;241;43m.\u001b[39;49m\u001b[43mto\u001b[49m\u001b[43m(\u001b[49m\u001b[38;5;124;43m'\u001b[39;49m\u001b[38;5;124;43mcuda\u001b[39;49m\u001b[38;5;124;43m'\u001b[39;49m\u001b[43m)\u001b[49m\n",
            "File \u001b[0;32m~/Desktop/VSC_WORKSPACE/vEnv/lib/python3.12/site-packages/torch/cuda/__init__.py:319\u001b[0m, in \u001b[0;36m_lazy_init\u001b[0;34m()\u001b[0m\n\u001b[1;32m    317\u001b[0m \u001b[38;5;28;01mif\u001b[39;00m \u001b[38;5;124m\"\u001b[39m\u001b[38;5;124mCUDA_MODULE_LOADING\u001b[39m\u001b[38;5;124m\"\u001b[39m \u001b[38;5;129;01mnot\u001b[39;00m \u001b[38;5;129;01min\u001b[39;00m os\u001b[38;5;241m.\u001b[39menviron:\n\u001b[1;32m    318\u001b[0m     os\u001b[38;5;241m.\u001b[39menviron[\u001b[38;5;124m\"\u001b[39m\u001b[38;5;124mCUDA_MODULE_LOADING\u001b[39m\u001b[38;5;124m\"\u001b[39m] \u001b[38;5;241m=\u001b[39m \u001b[38;5;124m\"\u001b[39m\u001b[38;5;124mLAZY\u001b[39m\u001b[38;5;124m\"\u001b[39m\n\u001b[0;32m--> 319\u001b[0m \u001b[43mtorch\u001b[49m\u001b[38;5;241;43m.\u001b[39;49m\u001b[43m_C\u001b[49m\u001b[38;5;241;43m.\u001b[39;49m\u001b[43m_cuda_init\u001b[49m\u001b[43m(\u001b[49m\u001b[43m)\u001b[49m\n\u001b[1;32m    320\u001b[0m \u001b[38;5;66;03m# Some of the queued calls may reentrantly call _lazy_init();\u001b[39;00m\n\u001b[1;32m    321\u001b[0m \u001b[38;5;66;03m# we need to just return without initializing in that case.\u001b[39;00m\n\u001b[1;32m    322\u001b[0m \u001b[38;5;66;03m# However, we must not let any *other* threads in!\u001b[39;00m\n\u001b[1;32m    323\u001b[0m _tls\u001b[38;5;241m.\u001b[39mis_initializing \u001b[38;5;241m=\u001b[39m \u001b[38;5;28;01mTrue\u001b[39;00m\n",
            "\u001b[0;31mRuntimeError\u001b[0m: Found no NVIDIA driver on your system. Please check that you have an NVIDIA GPU and installed a driver from http://www.nvidia.com/Download/index.aspx"
          ]
        }
      ],
      "source": [
        "ds.to('cuda')"
      ]
    },
    {
      "cell_type": "markdown",
      "metadata": {
        "id": "UEzH20AtcyqP"
      },
      "source": [
        "## Autograd & Computational Graph\n",
        "PyTorch's automatic differentiation engine that powers neural network training. It allows you to compute gradients automatically, which is essential for optimizing model parameters using gradient-based methods like stochastic gradient descent (SGD)."
      ]
    },
    {
      "cell_type": "code",
      "execution_count": null,
      "metadata": {
        "colab": {
          "base_uri": "https://localhost:8080/"
        },
        "id": "DNcUK0iTcz3Q",
        "outputId": "37834570-bb5f-4040-a005-7eb890ab493d"
      },
      "outputs": [
        {
          "name": "stdout",
          "output_type": "stream",
          "text": [
            "torch.Size([]) tensor([2.6667, 0.6667, 0.6667])\n"
          ]
        }
      ],
      "source": [
        "# When you create a tensor with `requires_grad=True`, PyTorch starts tracking all operations performed on it. This is necessary for computing gradients later.\n",
        "x = torch.randn(3, requires_grad=True)\n",
        "\n",
        "# Perform some operations\n",
        "y = x * 2\n",
        "z = y.mean()+y.max()\n",
        "\n",
        "# The `backward()` method computes the gradient of the output (`z` in this case) with respect to all tensors that have `requires_grad=True`.\n",
        "\n",
        "z.backward()\n",
        "\n",
        "# The `grad` attribute of a tensor stores the computed gradient. In this example, `x.grad` will contain the gradient of `z` with respect to `x`.\n",
        "print(z.shape, x.grad)\n"
      ]
    },
    {
      "cell_type": "code",
      "execution_count": null,
      "metadata": {
        "colab": {
          "base_uri": "https://localhost:8080/",
          "height": 455
        },
        "id": "Q9VOmHrWlp0U",
        "outputId": "6048adec-73b8-44f0-d151-4d81185658c5"
      },
      "outputs": [
        {
          "data": {
            "image/svg+xml": [
              "<?xml version=\"1.0\" encoding=\"UTF-8\" standalone=\"no\"?>\n",
              "<!DOCTYPE svg PUBLIC \"-//W3C//DTD SVG 1.1//EN\"\n",
              " \"http://www.w3.org/Graphics/SVG/1.1/DTD/svg11.dtd\">\n",
              "<!-- Generated by graphviz version 2.43.0 (0)\n",
              " -->\n",
              "<!-- Title: %3 Pages: 1 -->\n",
              "<svg width=\"210pt\" height=\"326pt\"\n",
              " viewBox=\"0.00 0.00 210.00 326.00\" xmlns=\"http://www.w3.org/2000/svg\" xmlns:xlink=\"http://www.w3.org/1999/xlink\">\n",
              "<g id=\"graph0\" class=\"graph\" transform=\"scale(1 1) rotate(0) translate(4 322)\">\n",
              "<title>%3</title>\n",
              "<polygon fill=\"white\" stroke=\"transparent\" points=\"-4,4 -4,-322 206,-322 206,4 -4,4\"/>\n",
              "<!-- 138608392477632 -->\n",
              "<g id=\"node1\" class=\"node\">\n",
              "<title>138608392477632</title>\n",
              "<polygon fill=\"#caff70\" stroke=\"black\" points=\"129.5,-31 75.5,-31 75.5,0 129.5,0 129.5,-31\"/>\n",
              "<text text-anchor=\"middle\" x=\"102.5\" y=\"-7\" font-family=\"monospace\" font-size=\"10.00\"> ()</text>\n",
              "</g>\n",
              "<!-- 138608327148160 -->\n",
              "<g id=\"node2\" class=\"node\">\n",
              "<title>138608327148160</title>\n",
              "<polygon fill=\"lightgrey\" stroke=\"black\" points=\"147,-86 58,-86 58,-67 147,-67 147,-86\"/>\n",
              "<text text-anchor=\"middle\" x=\"102.5\" y=\"-74\" font-family=\"monospace\" font-size=\"10.00\">AddBackward0</text>\n",
              "</g>\n",
              "<!-- 138608327148160&#45;&gt;138608392477632 -->\n",
              "<g id=\"edge7\" class=\"edge\">\n",
              "<title>138608327148160&#45;&gt;138608392477632</title>\n",
              "<path fill=\"none\" stroke=\"black\" d=\"M102.5,-66.79C102.5,-60.07 102.5,-50.4 102.5,-41.34\"/>\n",
              "<polygon fill=\"black\" stroke=\"black\" points=\"106,-41.19 102.5,-31.19 99,-41.19 106,-41.19\"/>\n",
              "</g>\n",
              "<!-- 138608327151040 -->\n",
              "<g id=\"node3\" class=\"node\">\n",
              "<title>138608327151040</title>\n",
              "<polygon fill=\"lightgrey\" stroke=\"black\" points=\"95,-141 0,-141 0,-122 95,-122 95,-141\"/>\n",
              "<text text-anchor=\"middle\" x=\"47.5\" y=\"-129\" font-family=\"monospace\" font-size=\"10.00\">MeanBackward0</text>\n",
              "</g>\n",
              "<!-- 138608327151040&#45;&gt;138608327148160 -->\n",
              "<g id=\"edge1\" class=\"edge\">\n",
              "<title>138608327151040&#45;&gt;138608327148160</title>\n",
              "<path fill=\"none\" stroke=\"black\" d=\"M56.58,-121.75C64.59,-114.03 76.46,-102.6 86.12,-93.28\"/>\n",
              "<polygon fill=\"black\" stroke=\"black\" points=\"88.81,-95.55 93.59,-86.09 83.96,-90.51 88.81,-95.55\"/>\n",
              "</g>\n",
              "<!-- 138608327156608 -->\n",
              "<g id=\"node4\" class=\"node\">\n",
              "<title>138608327156608</title>\n",
              "<polygon fill=\"lightgrey\" stroke=\"black\" points=\"147,-196 58,-196 58,-177 147,-177 147,-196\"/>\n",
              "<text text-anchor=\"middle\" x=\"102.5\" y=\"-184\" font-family=\"monospace\" font-size=\"10.00\">MulBackward0</text>\n",
              "</g>\n",
              "<!-- 138608327156608&#45;&gt;138608327151040 -->\n",
              "<g id=\"edge2\" class=\"edge\">\n",
              "<title>138608327156608&#45;&gt;138608327151040</title>\n",
              "<path fill=\"none\" stroke=\"black\" d=\"M93.42,-176.75C85.41,-169.03 73.54,-157.6 63.88,-148.28\"/>\n",
              "<polygon fill=\"black\" stroke=\"black\" points=\"66.04,-145.51 56.41,-141.09 61.19,-150.55 66.04,-145.51\"/>\n",
              "</g>\n",
              "<!-- 138608327149936 -->\n",
              "<g id=\"node7\" class=\"node\">\n",
              "<title>138608327149936</title>\n",
              "<polygon fill=\"lightgrey\" stroke=\"black\" points=\"202,-141 113,-141 113,-122 202,-122 202,-141\"/>\n",
              "<text text-anchor=\"middle\" x=\"157.5\" y=\"-129\" font-family=\"monospace\" font-size=\"10.00\">MaxBackward1</text>\n",
              "</g>\n",
              "<!-- 138608327156608&#45;&gt;138608327149936 -->\n",
              "<g id=\"edge6\" class=\"edge\">\n",
              "<title>138608327156608&#45;&gt;138608327149936</title>\n",
              "<path fill=\"none\" stroke=\"black\" d=\"M111.58,-176.75C119.59,-169.03 131.46,-157.6 141.12,-148.28\"/>\n",
              "<polygon fill=\"black\" stroke=\"black\" points=\"143.81,-150.55 148.59,-141.09 138.96,-145.51 143.81,-150.55\"/>\n",
              "</g>\n",
              "<!-- 138608265057696 -->\n",
              "<g id=\"node5\" class=\"node\">\n",
              "<title>138608265057696</title>\n",
              "<polygon fill=\"lightgrey\" stroke=\"black\" points=\"153,-251 52,-251 52,-232 153,-232 153,-251\"/>\n",
              "<text text-anchor=\"middle\" x=\"102.5\" y=\"-239\" font-family=\"monospace\" font-size=\"10.00\">AccumulateGrad</text>\n",
              "</g>\n",
              "<!-- 138608265057696&#45;&gt;138608327156608 -->\n",
              "<g id=\"edge3\" class=\"edge\">\n",
              "<title>138608265057696&#45;&gt;138608327156608</title>\n",
              "<path fill=\"none\" stroke=\"black\" d=\"M102.5,-231.75C102.5,-224.8 102.5,-214.85 102.5,-206.13\"/>\n",
              "<polygon fill=\"black\" stroke=\"black\" points=\"106,-206.09 102.5,-196.09 99,-206.09 106,-206.09\"/>\n",
              "</g>\n",
              "<!-- 138608327017872 -->\n",
              "<g id=\"node6\" class=\"node\">\n",
              "<title>138608327017872</title>\n",
              "<polygon fill=\"lightblue\" stroke=\"black\" points=\"129.5,-318 75.5,-318 75.5,-287 129.5,-287 129.5,-318\"/>\n",
              "<text text-anchor=\"middle\" x=\"102.5\" y=\"-294\" font-family=\"monospace\" font-size=\"10.00\"> (3)</text>\n",
              "</g>\n",
              "<!-- 138608327017872&#45;&gt;138608265057696 -->\n",
              "<g id=\"edge4\" class=\"edge\">\n",
              "<title>138608327017872&#45;&gt;138608265057696</title>\n",
              "<path fill=\"none\" stroke=\"black\" d=\"M102.5,-286.92C102.5,-279.22 102.5,-269.69 102.5,-261.43\"/>\n",
              "<polygon fill=\"black\" stroke=\"black\" points=\"106,-261.25 102.5,-251.25 99,-261.25 106,-261.25\"/>\n",
              "</g>\n",
              "<!-- 138608327149936&#45;&gt;138608327148160 -->\n",
              "<g id=\"edge5\" class=\"edge\">\n",
              "<title>138608327149936&#45;&gt;138608327148160</title>\n",
              "<path fill=\"none\" stroke=\"black\" d=\"M148.42,-121.75C140.41,-114.03 128.54,-102.6 118.88,-93.28\"/>\n",
              "<polygon fill=\"black\" stroke=\"black\" points=\"121.04,-90.51 111.41,-86.09 116.19,-95.55 121.04,-90.51\"/>\n",
              "</g>\n",
              "</g>\n",
              "</svg>\n"
            ],
            "text/plain": [
              "<graphviz.graphs.Digraph at 0x7e10441a4cd0>"
            ]
          },
          "execution_count": 26,
          "metadata": {},
          "output_type": "execute_result"
        }
      ],
      "source": [
        "from torchviz import make_dot\n",
        "make_dot(z)"
      ]
    },
    {
      "cell_type": "markdown",
      "metadata": {
        "id": "yafDA3phTWaR"
      },
      "source": [
        "## Sequential APIs"
      ]
    },
    {
      "cell_type": "code",
      "execution_count": null,
      "metadata": {
        "colab": {
          "base_uri": "https://localhost:8080/"
        },
        "id": "SdcFIq0mTIxV",
        "outputId": "35b3456d-9e43-4dba-f02d-6438bbbb4c13"
      },
      "outputs": [
        {
          "name": "stdout",
          "output_type": "stream",
          "text": [
            "Sequential(\n",
            "  (0): Linear(in_features=10, out_features=64, bias=True)\n",
            "  (1): ReLU()\n",
            "  (2): Linear(in_features=64, out_features=1, bias=True)\n",
            "  (3): Sigmoid()\n",
            ")\n"
          ]
        }
      ],
      "source": [
        "# Install PyTorch (uncomment the line below if not already installed)\n",
        "\n",
        "import torch.nn as nn\n",
        "\n",
        "# Define a simple model\n",
        "model = nn.Sequential(\n",
        "    nn.Linear(10, 64),\n",
        "    nn.ReLU(),\n",
        "    nn.Linear(64, 1),\n",
        "    nn.Sigmoid()\n",
        ")\n",
        "\n",
        "print(model)"
      ]
    },
    {
      "cell_type": "markdown",
      "metadata": {
        "id": "QEDYcHmdm-Z3"
      },
      "source": [
        "## Building complex architectures: nn.Module"
      ]
    },
    {
      "cell_type": "code",
      "execution_count": null,
      "metadata": {
        "id": "vUH7E0WhnJj1"
      },
      "outputs": [],
      "source": [
        "# prompt: create a neural network for the penguins task extending nn.Module\n",
        "\n",
        "class PenguinClassifier(nn.Module):\n",
        "  def __init__(self, config):\n",
        "    super(PenguinClassifier, self).__init__()\n",
        "    self.layers = nn.ModuleList()\n",
        "\n",
        "    self.layers.append(nn.Linear(config['input_dim'], config['hidden_dim']))\n",
        "\n",
        "    for i in range(config['hidden_layers']):\n",
        "      self.layers.append(nn.Linear(config['hidden_dim'], config['hidden_dim']))\n",
        "\n",
        "    self.layers.append(nn.Linear(config['hidden_dim'], config['output_dim']))\n",
        "    self.relu = nn.ReLU()\n",
        "    self.softmax = nn.Softmax(dim=1)\n",
        "\n",
        "  def forward(self, x):\n",
        "    for layer in self.layers[:-1]:\n",
        "      x = self.relu(layer(x))\n",
        "    x = self.softmax(self.layers[-1](x))\n",
        "    return x\n",
        "\n",
        "\n",
        "config = {\n",
        "    \"input_dim\": input_dim,\n",
        "    \"hidden_dim\": 64,\n",
        "    \"hidden_layers\": 1,\n",
        "    \"output_dim\": output_dim\n",
        "}\n",
        "\n"
      ]
    },
    {
      "cell_type": "markdown",
      "metadata": {
        "id": "FzBZOVwKEhOV"
      },
      "source": [
        "## Dataloaders and Datasets\n",
        "Are useful to handle batches loading"
      ]
    },
    {
      "cell_type": "code",
      "execution_count": null,
      "metadata": {
        "id": "9X0VvyXF9dcb"
      },
      "outputs": [],
      "source": [
        "from torch.utils.data import Dataset, DataLoader\n",
        "\n",
        "class PenguinDataLoader(DataLoader):\n",
        "  def __init__(self, dataset, batch_size, shuffle=True):\n",
        "    super(PenguinDataLoader, self).__init__(dataset, batch_size=batch_size, shuffle=shuffle)\n",
        "\n",
        "class PenguinDataset(Dataset):\n",
        "  def __init__(self, X, y):\n",
        "    self.X = torch.tensor(X.values, dtype=torch.float32)\n",
        "    self.y = torch.tensor(y.values, dtype=torch.float32)\n",
        "\n",
        "  def __len__(self):\n",
        "    return len(self.X)\n",
        "\n",
        "  def __getitem__(self, idx):\n",
        "    return self.X[idx], self.y[idx]\n",
        "\n"
      ]
    },
    {
      "cell_type": "markdown",
      "metadata": {
        "id": "bpjvAAggBMp7"
      },
      "source": [
        "## Training Neural Networks\n",
        "\n",
        "Autograd is crucial for training neural networks in PyTorch. Here's\n",
        "how it works in a typical training loop:\n",
        "\n",
        "1. **Forward Pass:** The input data is fed through the network,\n",
        "and the output is computed.\n",
        "\n",
        "2. **Compute Loss:** The loss function is calculated based on\n",
        "the network's output and the target labels.\n",
        "\n",
        "3. **Backward Pass:** `loss.backward()` is called to compute the gradient of the loss with respect to all model parameters (weights and biases) that have `requires_grad=True`.\n",
        "4. **Update Parameters:** An optimizer (like SGD) is used to update the model parameters based on the computed gradients."
      ]
    },
    {
      "cell_type": "code",
      "execution_count": null,
      "metadata": {
        "colab": {
          "base_uri": "https://localhost:8080/"
        },
        "id": "ax7Nklp4AOiM",
        "outputId": "5eca24b5-bd90-401a-9391-a1d6e71b1666"
      },
      "outputs": [
        {
          "name": "stdout",
          "output_type": "stream",
          "text": [
            "Requirement already satisfied: torchmetrics in /usr/local/lib/python3.10/dist-packages (1.6.0)\n",
            "Requirement already satisfied: numpy>1.20.0 in /usr/local/lib/python3.10/dist-packages (from torchmetrics) (1.26.4)\n",
            "Requirement already satisfied: packaging>17.1 in /usr/local/lib/python3.10/dist-packages (from torchmetrics) (24.2)\n",
            "Requirement already satisfied: torch>=2.0.0 in /usr/local/lib/python3.10/dist-packages (from torchmetrics) (2.5.1+cu121)\n",
            "Requirement already satisfied: lightning-utilities>=0.8.0 in /usr/local/lib/python3.10/dist-packages (from torchmetrics) (0.11.8)\n",
            "Requirement already satisfied: setuptools in /usr/local/lib/python3.10/dist-packages (from lightning-utilities>=0.8.0->torchmetrics) (75.1.0)\n",
            "Requirement already satisfied: typing-extensions in /usr/local/lib/python3.10/dist-packages (from lightning-utilities>=0.8.0->torchmetrics) (4.12.2)\n",
            "Requirement already satisfied: filelock in /usr/local/lib/python3.10/dist-packages (from torch>=2.0.0->torchmetrics) (3.16.1)\n",
            "Requirement already satisfied: networkx in /usr/local/lib/python3.10/dist-packages (from torch>=2.0.0->torchmetrics) (3.4.2)\n",
            "Requirement already satisfied: jinja2 in /usr/local/lib/python3.10/dist-packages (from torch>=2.0.0->torchmetrics) (3.1.4)\n",
            "Requirement already satisfied: fsspec in /usr/local/lib/python3.10/dist-packages (from torch>=2.0.0->torchmetrics) (2024.10.0)\n",
            "Requirement already satisfied: sympy==1.13.1 in /usr/local/lib/python3.10/dist-packages (from torch>=2.0.0->torchmetrics) (1.13.1)\n",
            "Requirement already satisfied: mpmath<1.4,>=1.1.0 in /usr/local/lib/python3.10/dist-packages (from sympy==1.13.1->torch>=2.0.0->torchmetrics) (1.3.0)\n",
            "Requirement already satisfied: MarkupSafe>=2.0 in /usr/local/lib/python3.10/dist-packages (from jinja2->torch>=2.0.0->torchmetrics) (3.0.2)\n"
          ]
        }
      ],
      "source": [
        "!pip install torchmetrics"
      ]
    },
    {
      "cell_type": "code",
      "execution_count": null,
      "metadata": {
        "id": "TYVfbifzCJtt"
      },
      "outputs": [],
      "source": [
        "from torchmetrics.functional import accuracy, specificity, auroc, recall, precision, f1_score, matthews_corrcoef"
      ]
    },
    {
      "cell_type": "code",
      "execution_count": null,
      "metadata": {
        "colab": {
          "base_uri": "https://localhost:8080/"
        },
        "id": "pfeLK1nz-_S1",
        "outputId": "b5ea8112-2a3f-4758-ef0b-4d43d3768c9f"
      },
      "outputs": [
        {
          "name": "stdout",
          "output_type": "stream",
          "text": [
            "Epoch [1/20], Step [1/5], Loss: 1.1065, Accuracy: 0.0000\n",
            "Epoch [1/20], Step [2/5], Loss: 0.8831, Accuracy: 0.0000\n",
            "Epoch [1/20], Step [3/5], Loss: 0.7246, Accuracy: 0.1302\n",
            "Epoch [1/20], Step [4/5], Loss: 0.7721, Accuracy: 0.1875\n",
            "Epoch [1/20], Step [5/5], Loss: 0.7514, Accuracy: 0.5000\n",
            "Epoch [2/20], Step [1/5], Loss: 0.6442, Accuracy: 0.9115\n",
            "Epoch [2/20], Step [2/5], Loss: 0.7688, Accuracy: 0.8281\n",
            "Epoch [2/20], Step [3/5], Loss: 0.7546, Accuracy: 0.8490\n",
            "Epoch [2/20], Step [4/5], Loss: 0.7702, Accuracy: 0.8333\n",
            "Epoch [2/20], Step [5/5], Loss: 0.8514, Accuracy: 0.8000\n",
            "Epoch [3/20], Step [1/5], Loss: 0.7233, Accuracy: 0.8802\n",
            "Epoch [3/20], Step [2/5], Loss: 0.7389, Accuracy: 0.8646\n",
            "Epoch [3/20], Step [3/5], Loss: 0.7702, Accuracy: 0.8385\n",
            "Epoch [3/20], Step [4/5], Loss: 0.7077, Accuracy: 0.8906\n",
            "Epoch [3/20], Step [5/5], Loss: 0.8514, Accuracy: 0.8000\n",
            "Epoch [4/20], Step [1/5], Loss: 0.7546, Accuracy: 0.8490\n",
            "Epoch [4/20], Step [2/5], Loss: 0.7225, Accuracy: 0.8698\n",
            "Epoch [4/20], Step [3/5], Loss: 0.7572, Accuracy: 0.8333\n",
            "Epoch [4/20], Step [4/5], Loss: 0.7389, Accuracy: 0.8750\n",
            "Epoch [4/20], Step [5/5], Loss: 0.7514, Accuracy: 0.8667\n",
            "Epoch [5/20], Step [1/5], Loss: 0.6764, Accuracy: 0.9115\n",
            "Epoch [5/20], Step [2/5], Loss: 0.7541, Accuracy: 0.8594\n",
            "Epoch [5/20], Step [3/5], Loss: 0.7233, Accuracy: 0.8854\n",
            "Epoch [5/20], Step [4/5], Loss: 0.8014, Accuracy: 0.8333\n",
            "Epoch [5/20], Step [5/5], Loss: 0.7514, Accuracy: 0.8667\n",
            "Epoch [6/20], Step [1/5], Loss: 0.7702, Accuracy: 0.8542\n",
            "Epoch [6/20], Step [2/5], Loss: 0.7546, Accuracy: 0.8646\n",
            "Epoch [6/20], Step [3/5], Loss: 0.7389, Accuracy: 0.8750\n",
            "Epoch [6/20], Step [4/5], Loss: 0.6764, Accuracy: 0.9167\n",
            "Epoch [6/20], Step [5/5], Loss: 0.8514, Accuracy: 0.8000\n",
            "Epoch [7/20], Step [1/5], Loss: 0.7233, Accuracy: 0.8854\n",
            "Epoch [7/20], Step [2/5], Loss: 0.8171, Accuracy: 0.8229\n",
            "Epoch [7/20], Step [3/5], Loss: 0.6921, Accuracy: 0.9062\n",
            "Epoch [7/20], Step [4/5], Loss: 0.7233, Accuracy: 0.8854\n",
            "Epoch [7/20], Step [5/5], Loss: 0.7514, Accuracy: 0.8667\n",
            "Epoch [8/20], Step [1/5], Loss: 0.7389, Accuracy: 0.8750\n",
            "Epoch [8/20], Step [2/5], Loss: 0.7233, Accuracy: 0.8854\n",
            "Epoch [8/20], Step [3/5], Loss: 0.7702, Accuracy: 0.8542\n",
            "Epoch [8/20], Step [4/5], Loss: 0.7389, Accuracy: 0.8750\n",
            "Epoch [8/20], Step [5/5], Loss: 0.6514, Accuracy: 0.9333\n",
            "Epoch [9/20], Step [1/5], Loss: 0.7077, Accuracy: 0.8958\n",
            "Epoch [9/20], Step [2/5], Loss: 0.7702, Accuracy: 0.8542\n",
            "Epoch [9/20], Step [3/5], Loss: 0.7858, Accuracy: 0.8438\n",
            "Epoch [9/20], Step [4/5], Loss: 0.7077, Accuracy: 0.8958\n",
            "Epoch [9/20], Step [5/5], Loss: 0.6514, Accuracy: 0.9333\n",
            "Epoch [10/20], Step [1/5], Loss: 0.6921, Accuracy: 0.9062\n",
            "Epoch [10/20], Step [2/5], Loss: 0.7233, Accuracy: 0.8854\n",
            "Epoch [10/20], Step [3/5], Loss: 0.7233, Accuracy: 0.8854\n",
            "Epoch [10/20], Step [4/5], Loss: 0.8171, Accuracy: 0.8229\n",
            "Epoch [10/20], Step [5/5], Loss: 0.7514, Accuracy: 0.8667\n",
            "Epoch [11/20], Step [1/5], Loss: 0.7858, Accuracy: 0.8438\n",
            "Epoch [11/20], Step [2/5], Loss: 0.7233, Accuracy: 0.8854\n",
            "Epoch [11/20], Step [3/5], Loss: 0.7702, Accuracy: 0.8542\n",
            "Epoch [11/20], Step [4/5], Loss: 0.6764, Accuracy: 0.9167\n",
            "Epoch [11/20], Step [5/5], Loss: 0.7514, Accuracy: 0.8667\n",
            "Epoch [12/20], Step [1/5], Loss: 0.7546, Accuracy: 0.8646\n",
            "Epoch [12/20], Step [2/5], Loss: 0.7389, Accuracy: 0.8750\n",
            "Epoch [12/20], Step [3/5], Loss: 0.7546, Accuracy: 0.8646\n",
            "Epoch [12/20], Step [4/5], Loss: 0.7233, Accuracy: 0.8854\n",
            "Epoch [12/20], Step [5/5], Loss: 0.6514, Accuracy: 0.9333\n",
            "Epoch [13/20], Step [1/5], Loss: 0.8171, Accuracy: 0.8229\n",
            "Epoch [13/20], Step [2/5], Loss: 0.6921, Accuracy: 0.9062\n",
            "Epoch [13/20], Step [3/5], Loss: 0.7389, Accuracy: 0.8750\n",
            "Epoch [13/20], Step [4/5], Loss: 0.6764, Accuracy: 0.9167\n",
            "Epoch [13/20], Step [5/5], Loss: 0.9514, Accuracy: 0.7333\n",
            "Epoch [14/20], Step [1/5], Loss: 0.7702, Accuracy: 0.8542\n",
            "Epoch [14/20], Step [2/5], Loss: 0.7389, Accuracy: 0.8750\n",
            "Epoch [14/20], Step [3/5], Loss: 0.7546, Accuracy: 0.8646\n",
            "Epoch [14/20], Step [4/5], Loss: 0.6764, Accuracy: 0.9167\n",
            "Epoch [14/20], Step [5/5], Loss: 0.8514, Accuracy: 0.8000\n",
            "Epoch [15/20], Step [1/5], Loss: 0.6139, Accuracy: 0.9583\n",
            "Epoch [15/20], Step [2/5], Loss: 0.8171, Accuracy: 0.8229\n",
            "Epoch [15/20], Step [3/5], Loss: 0.7233, Accuracy: 0.8854\n",
            "Epoch [15/20], Step [4/5], Loss: 0.7702, Accuracy: 0.8542\n",
            "Epoch [15/20], Step [5/5], Loss: 0.9514, Accuracy: 0.7333\n",
            "Epoch [16/20], Step [1/5], Loss: 0.7389, Accuracy: 0.8750\n",
            "Epoch [16/20], Step [2/5], Loss: 0.7233, Accuracy: 0.8854\n",
            "Epoch [16/20], Step [3/5], Loss: 0.7389, Accuracy: 0.8750\n",
            "Epoch [16/20], Step [4/5], Loss: 0.7546, Accuracy: 0.8646\n",
            "Epoch [16/20], Step [5/5], Loss: 0.7514, Accuracy: 0.8667\n",
            "Epoch [17/20], Step [1/5], Loss: 0.6921, Accuracy: 0.9062\n",
            "Epoch [17/20], Step [2/5], Loss: 0.7858, Accuracy: 0.8438\n",
            "Epoch [17/20], Step [3/5], Loss: 0.7702, Accuracy: 0.8542\n",
            "Epoch [17/20], Step [4/5], Loss: 0.7389, Accuracy: 0.8750\n",
            "Epoch [17/20], Step [5/5], Loss: 0.5514, Accuracy: 1.0000\n",
            "Epoch [18/20], Step [1/5], Loss: 0.7702, Accuracy: 0.8542\n",
            "Epoch [18/20], Step [2/5], Loss: 0.7702, Accuracy: 0.8542\n",
            "Epoch [18/20], Step [3/5], Loss: 0.7077, Accuracy: 0.8958\n",
            "Epoch [18/20], Step [4/5], Loss: 0.7233, Accuracy: 0.8854\n",
            "Epoch [18/20], Step [5/5], Loss: 0.6514, Accuracy: 0.9333\n",
            "Epoch [19/20], Step [1/5], Loss: 0.6921, Accuracy: 0.9062\n",
            "Epoch [19/20], Step [2/5], Loss: 0.7546, Accuracy: 0.8646\n",
            "Epoch [19/20], Step [3/5], Loss: 0.7702, Accuracy: 0.8542\n",
            "Epoch [19/20], Step [4/5], Loss: 0.7546, Accuracy: 0.8646\n",
            "Epoch [19/20], Step [5/5], Loss: 0.6514, Accuracy: 0.9333\n",
            "Epoch [20/20], Step [1/5], Loss: 0.8014, Accuracy: 0.8333\n",
            "Epoch [20/20], Step [2/5], Loss: 0.7389, Accuracy: 0.8750\n",
            "Epoch [20/20], Step [3/5], Loss: 0.6921, Accuracy: 0.9062\n",
            "Epoch [20/20], Step [4/5], Loss: 0.7546, Accuracy: 0.8646\n",
            "Epoch [20/20], Step [5/5], Loss: 0.5514, Accuracy: 1.0000\n"
          ]
        }
      ],
      "source": [
        "import torch.optim as optim\n",
        "\n",
        "# Instantiate the model\n",
        "model = PenguinClassifier(config)\n",
        "\n",
        "criterion = nn.CrossEntropyLoss()\n",
        "optimizer = optim.Adam(model.parameters(), lr=0.1)\n",
        "\n",
        "# Create datasets and data loaders\n",
        "train_dataset = PenguinDataset(X_train, y_train)\n",
        "train_loader = DataLoader(train_dataset, batch_size=64, shuffle=True)\n",
        "\n",
        "# Training loop\n",
        "num_epochs = 20\n",
        "for epoch in range(num_epochs):\n",
        "  for batch_idx, (data, target) in enumerate(train_loader):\n",
        "    # Zero the gradients\n",
        "    # optimizer.zero_grad()\n",
        "\n",
        "    # Forward pass\n",
        "    output = model(data)\n",
        "    # Calculate loss\n",
        "    loss = criterion(output, target)\n",
        "\n",
        "    # Backward pass and optimization\n",
        "    loss.backward()\n",
        "    optimizer.step()\n",
        "\n",
        "    acc = accuracy(output, target, task='multiclass', num_classes=3)\n",
        "\n",
        "    # Print progress\n",
        "    print(f'Epoch [{epoch+1}/{num_epochs}], Step [{batch_idx+1}/{len(train_loader)}], Loss: {loss.item():.4f}, Accuracy: {acc:.4f}')\n"
      ]
    },
    {
      "cell_type": "code",
      "execution_count": null,
      "metadata": {
        "colab": {
          "base_uri": "https://localhost:8080/",
          "height": 1000
        },
        "id": "DlTWNJOpnbTH",
        "outputId": "8e285413-742b-4136-9ace-61a3e857d32b"
      },
      "outputs": [
        {
          "data": {
            "image/svg+xml": [
              "<?xml version=\"1.0\" encoding=\"UTF-8\" standalone=\"no\"?>\n",
              "<!DOCTYPE svg PUBLIC \"-//W3C//DTD SVG 1.1//EN\"\n",
              " \"http://www.w3.org/Graphics/SVG/1.1/DTD/svg11.dtd\">\n",
              "<!-- Generated by graphviz version 2.43.0 (0)\n",
              " -->\n",
              "<!-- Title: %3 Pages: 1 -->\n",
              "<svg width=\"436pt\" height=\"864pt\"\n",
              " viewBox=\"0.00 0.00 436.44 864.00\" xmlns=\"http://www.w3.org/2000/svg\" xmlns:xlink=\"http://www.w3.org/1999/xlink\">\n",
              "<g id=\"graph0\" class=\"graph\" transform=\"scale(0.99 0.99) rotate(0) translate(4 871)\">\n",
              "<title>%3</title>\n",
              "<polygon fill=\"white\" stroke=\"transparent\" points=\"-4,4 -4,-871 438,-871 438,4 -4,4\"/>\n",
              "<!-- 138606531105456 -->\n",
              "<g id=\"node1\" class=\"node\">\n",
              "<title>138606531105456</title>\n",
              "<polygon fill=\"#caff70\" stroke=\"black\" points=\"217.5,-31 163.5,-31 163.5,0 217.5,0 217.5,-31\"/>\n",
              "<text text-anchor=\"middle\" x=\"190.5\" y=\"-7\" font-family=\"monospace\" font-size=\"10.00\"> ()</text>\n",
              "</g>\n",
              "<!-- 138606918373712 -->\n",
              "<g id=\"node2\" class=\"node\">\n",
              "<title>138606918373712</title>\n",
              "<polygon fill=\"lightgrey\" stroke=\"black\" points=\"235,-86 146,-86 146,-67 235,-67 235,-86\"/>\n",
              "<text text-anchor=\"middle\" x=\"190.5\" y=\"-74\" font-family=\"monospace\" font-size=\"10.00\">DivBackward1</text>\n",
              "</g>\n",
              "<!-- 138606918373712&#45;&gt;138606531105456 -->\n",
              "<g id=\"edge26\" class=\"edge\">\n",
              "<title>138606918373712&#45;&gt;138606531105456</title>\n",
              "<path fill=\"none\" stroke=\"black\" d=\"M190.5,-66.79C190.5,-60.07 190.5,-50.4 190.5,-41.34\"/>\n",
              "<polygon fill=\"black\" stroke=\"black\" points=\"194,-41.19 190.5,-31.19 187,-41.19 194,-41.19\"/>\n",
              "</g>\n",
              "<!-- 138606918373760 -->\n",
              "<g id=\"node3\" class=\"node\">\n",
              "<title>138606918373760</title>\n",
              "<polygon fill=\"lightgrey\" stroke=\"black\" points=\"235,-141 146,-141 146,-122 235,-122 235,-141\"/>\n",
              "<text text-anchor=\"middle\" x=\"190.5\" y=\"-129\" font-family=\"monospace\" font-size=\"10.00\">NegBackward0</text>\n",
              "</g>\n",
              "<!-- 138606918373760&#45;&gt;138606918373712 -->\n",
              "<g id=\"edge1\" class=\"edge\">\n",
              "<title>138606918373760&#45;&gt;138606918373712</title>\n",
              "<path fill=\"none\" stroke=\"black\" d=\"M190.5,-121.75C190.5,-114.8 190.5,-104.85 190.5,-96.13\"/>\n",
              "<polygon fill=\"black\" stroke=\"black\" points=\"194,-96.09 190.5,-86.09 187,-96.09 194,-96.09\"/>\n",
              "</g>\n",
              "<!-- 138606918375536 -->\n",
              "<g id=\"node4\" class=\"node\">\n",
              "<title>138606918375536</title>\n",
              "<polygon fill=\"lightgrey\" stroke=\"black\" points=\"235,-196 146,-196 146,-177 235,-177 235,-196\"/>\n",
              "<text text-anchor=\"middle\" x=\"190.5\" y=\"-184\" font-family=\"monospace\" font-size=\"10.00\">SumBackward0</text>\n",
              "</g>\n",
              "<!-- 138606918375536&#45;&gt;138606918373760 -->\n",
              "<g id=\"edge2\" class=\"edge\">\n",
              "<title>138606918375536&#45;&gt;138606918373760</title>\n",
              "<path fill=\"none\" stroke=\"black\" d=\"M190.5,-176.75C190.5,-169.8 190.5,-159.85 190.5,-151.13\"/>\n",
              "<polygon fill=\"black\" stroke=\"black\" points=\"194,-151.09 190.5,-141.09 187,-151.09 194,-151.09\"/>\n",
              "</g>\n",
              "<!-- 138606918373520 -->\n",
              "<g id=\"node5\" class=\"node\">\n",
              "<title>138606918373520</title>\n",
              "<polygon fill=\"lightgrey\" stroke=\"black\" points=\"235,-251 146,-251 146,-232 235,-232 235,-251\"/>\n",
              "<text text-anchor=\"middle\" x=\"190.5\" y=\"-239\" font-family=\"monospace\" font-size=\"10.00\">MulBackward0</text>\n",
              "</g>\n",
              "<!-- 138606918373520&#45;&gt;138606918375536 -->\n",
              "<g id=\"edge3\" class=\"edge\">\n",
              "<title>138606918373520&#45;&gt;138606918375536</title>\n",
              "<path fill=\"none\" stroke=\"black\" d=\"M190.5,-231.75C190.5,-224.8 190.5,-214.85 190.5,-206.13\"/>\n",
              "<polygon fill=\"black\" stroke=\"black\" points=\"194,-206.09 190.5,-196.09 187,-206.09 194,-206.09\"/>\n",
              "</g>\n",
              "<!-- 138606918374576 -->\n",
              "<g id=\"node6\" class=\"node\">\n",
              "<title>138606918374576</title>\n",
              "<polygon fill=\"lightgrey\" stroke=\"black\" points=\"256,-306 125,-306 125,-287 256,-287 256,-306\"/>\n",
              "<text text-anchor=\"middle\" x=\"190.5\" y=\"-294\" font-family=\"monospace\" font-size=\"10.00\">LogSoftmaxBackward0</text>\n",
              "</g>\n",
              "<!-- 138606918374576&#45;&gt;138606918373520 -->\n",
              "<g id=\"edge4\" class=\"edge\">\n",
              "<title>138606918374576&#45;&gt;138606918373520</title>\n",
              "<path fill=\"none\" stroke=\"black\" d=\"M190.5,-286.75C190.5,-279.8 190.5,-269.85 190.5,-261.13\"/>\n",
              "<polygon fill=\"black\" stroke=\"black\" points=\"194,-261.09 190.5,-251.09 187,-261.09 194,-261.09\"/>\n",
              "</g>\n",
              "<!-- 138606918371312 -->\n",
              "<g id=\"node7\" class=\"node\">\n",
              "<title>138606918371312</title>\n",
              "<polygon fill=\"lightgrey\" stroke=\"black\" points=\"247,-361 134,-361 134,-342 247,-342 247,-361\"/>\n",
              "<text text-anchor=\"middle\" x=\"190.5\" y=\"-349\" font-family=\"monospace\" font-size=\"10.00\">SoftmaxBackward0</text>\n",
              "</g>\n",
              "<!-- 138606918371312&#45;&gt;138606918374576 -->\n",
              "<g id=\"edge5\" class=\"edge\">\n",
              "<title>138606918371312&#45;&gt;138606918374576</title>\n",
              "<path fill=\"none\" stroke=\"black\" d=\"M190.5,-341.75C190.5,-334.8 190.5,-324.85 190.5,-316.13\"/>\n",
              "<polygon fill=\"black\" stroke=\"black\" points=\"194,-316.09 190.5,-306.09 187,-316.09 194,-316.09\"/>\n",
              "</g>\n",
              "<!-- 138606918370544 -->\n",
              "<g id=\"node8\" class=\"node\">\n",
              "<title>138606918370544</title>\n",
              "<polygon fill=\"lightgrey\" stroke=\"black\" points=\"241,-416 140,-416 140,-397 241,-397 241,-416\"/>\n",
              "<text text-anchor=\"middle\" x=\"190.5\" y=\"-404\" font-family=\"monospace\" font-size=\"10.00\">AddmmBackward0</text>\n",
              "</g>\n",
              "<!-- 138606918370544&#45;&gt;138606918371312 -->\n",
              "<g id=\"edge6\" class=\"edge\">\n",
              "<title>138606918370544&#45;&gt;138606918371312</title>\n",
              "<path fill=\"none\" stroke=\"black\" d=\"M190.5,-396.75C190.5,-389.8 190.5,-379.85 190.5,-371.13\"/>\n",
              "<polygon fill=\"black\" stroke=\"black\" points=\"194,-371.09 190.5,-361.09 187,-371.09 194,-371.09\"/>\n",
              "</g>\n",
              "<!-- 138606918371264 -->\n",
              "<g id=\"node9\" class=\"node\">\n",
              "<title>138606918371264</title>\n",
              "<polygon fill=\"lightgrey\" stroke=\"black\" points=\"125,-471 24,-471 24,-452 125,-452 125,-471\"/>\n",
              "<text text-anchor=\"middle\" x=\"74.5\" y=\"-459\" font-family=\"monospace\" font-size=\"10.00\">AccumulateGrad</text>\n",
              "</g>\n",
              "<!-- 138606918371264&#45;&gt;138606918370544 -->\n",
              "<g id=\"edge7\" class=\"edge\">\n",
              "<title>138606918371264&#45;&gt;138606918370544</title>\n",
              "<path fill=\"none\" stroke=\"black\" d=\"M93.14,-451.98C111.8,-443.46 140.75,-430.23 162.24,-420.41\"/>\n",
              "<polygon fill=\"black\" stroke=\"black\" points=\"163.88,-423.51 171.52,-416.17 160.97,-417.14 163.88,-423.51\"/>\n",
              "</g>\n",
              "<!-- 138606918165392 -->\n",
              "<g id=\"node10\" class=\"node\">\n",
              "<title>138606918165392</title>\n",
              "<polygon fill=\"lightblue\" stroke=\"black\" points=\"122,-537 27,-537 27,-507 122,-507 122,-537\"/>\n",
              "<text text-anchor=\"middle\" x=\"74.5\" y=\"-525\" font-family=\"monospace\" font-size=\"10.00\">layers.2.bias</text>\n",
              "<text text-anchor=\"middle\" x=\"74.5\" y=\"-514\" font-family=\"monospace\" font-size=\"10.00\"> (3)</text>\n",
              "</g>\n",
              "<!-- 138606918165392&#45;&gt;138606918371264 -->\n",
              "<g id=\"edge8\" class=\"edge\">\n",
              "<title>138606918165392&#45;&gt;138606918371264</title>\n",
              "<path fill=\"none\" stroke=\"black\" d=\"M74.5,-506.84C74.5,-499.21 74.5,-489.7 74.5,-481.45\"/>\n",
              "<polygon fill=\"black\" stroke=\"black\" points=\"78,-481.27 74.5,-471.27 71,-481.27 78,-481.27\"/>\n",
              "</g>\n",
              "<!-- 138606918370976 -->\n",
              "<g id=\"node11\" class=\"node\">\n",
              "<title>138606918370976</title>\n",
              "<polygon fill=\"lightgrey\" stroke=\"black\" points=\"238,-471 143,-471 143,-452 238,-452 238,-471\"/>\n",
              "<text text-anchor=\"middle\" x=\"190.5\" y=\"-459\" font-family=\"monospace\" font-size=\"10.00\">ReluBackward0</text>\n",
              "</g>\n",
              "<!-- 138606918370976&#45;&gt;138606918370544 -->\n",
              "<g id=\"edge9\" class=\"edge\">\n",
              "<title>138606918370976&#45;&gt;138606918370544</title>\n",
              "<path fill=\"none\" stroke=\"black\" d=\"M190.5,-451.75C190.5,-444.8 190.5,-434.85 190.5,-426.13\"/>\n",
              "<polygon fill=\"black\" stroke=\"black\" points=\"194,-426.09 190.5,-416.09 187,-426.09 194,-426.09\"/>\n",
              "</g>\n",
              "<!-- 138606918370928 -->\n",
              "<g id=\"node12\" class=\"node\">\n",
              "<title>138606918370928</title>\n",
              "<polygon fill=\"lightgrey\" stroke=\"black\" points=\"241,-531.5 140,-531.5 140,-512.5 241,-512.5 241,-531.5\"/>\n",
              "<text text-anchor=\"middle\" x=\"190.5\" y=\"-519.5\" font-family=\"monospace\" font-size=\"10.00\">AddmmBackward0</text>\n",
              "</g>\n",
              "<!-- 138606918370928&#45;&gt;138606918370976 -->\n",
              "<g id=\"edge10\" class=\"edge\">\n",
              "<title>138606918370928&#45;&gt;138606918370976</title>\n",
              "<path fill=\"none\" stroke=\"black\" d=\"M190.5,-512.37C190.5,-504.25 190.5,-491.81 190.5,-481.39\"/>\n",
              "<polygon fill=\"black\" stroke=\"black\" points=\"194,-481.17 190.5,-471.17 187,-481.17 194,-481.17\"/>\n",
              "</g>\n",
              "<!-- 138606918370688 -->\n",
              "<g id=\"node13\" class=\"node\">\n",
              "<title>138606918370688</title>\n",
              "<polygon fill=\"lightgrey\" stroke=\"black\" points=\"101,-597.5 0,-597.5 0,-578.5 101,-578.5 101,-597.5\"/>\n",
              "<text text-anchor=\"middle\" x=\"50.5\" y=\"-585.5\" font-family=\"monospace\" font-size=\"10.00\">AccumulateGrad</text>\n",
              "</g>\n",
              "<!-- 138606918370688&#45;&gt;138606918370928 -->\n",
              "<g id=\"edge11\" class=\"edge\">\n",
              "<title>138606918370688&#45;&gt;138606918370928</title>\n",
              "<path fill=\"none\" stroke=\"black\" d=\"M69.38,-578.37C93.28,-567.44 134.67,-548.52 162.32,-535.88\"/>\n",
              "<polygon fill=\"black\" stroke=\"black\" points=\"163.83,-539.04 171.47,-531.7 160.92,-532.67 163.83,-539.04\"/>\n",
              "</g>\n",
              "<!-- 138606918164992 -->\n",
              "<g id=\"node14\" class=\"node\">\n",
              "<title>138606918164992</title>\n",
              "<polygon fill=\"lightblue\" stroke=\"black\" points=\"98,-669 3,-669 3,-639 98,-639 98,-669\"/>\n",
              "<text text-anchor=\"middle\" x=\"50.5\" y=\"-657\" font-family=\"monospace\" font-size=\"10.00\">layers.1.bias</text>\n",
              "<text text-anchor=\"middle\" x=\"50.5\" y=\"-646\" font-family=\"monospace\" font-size=\"10.00\"> (64)</text>\n",
              "</g>\n",
              "<!-- 138606918164992&#45;&gt;138606918370688 -->\n",
              "<g id=\"edge12\" class=\"edge\">\n",
              "<title>138606918164992&#45;&gt;138606918370688</title>\n",
              "<path fill=\"none\" stroke=\"black\" d=\"M50.5,-638.8C50.5,-629.7 50.5,-617.79 50.5,-607.9\"/>\n",
              "<polygon fill=\"black\" stroke=\"black\" points=\"54,-607.84 50.5,-597.84 47,-607.84 54,-607.84\"/>\n",
              "</g>\n",
              "<!-- 138606918371024 -->\n",
              "<g id=\"node15\" class=\"node\">\n",
              "<title>138606918371024</title>\n",
              "<polygon fill=\"lightgrey\" stroke=\"black\" points=\"214,-597.5 119,-597.5 119,-578.5 214,-578.5 214,-597.5\"/>\n",
              "<text text-anchor=\"middle\" x=\"166.5\" y=\"-585.5\" font-family=\"monospace\" font-size=\"10.00\">ReluBackward0</text>\n",
              "</g>\n",
              "<!-- 138606918371024&#45;&gt;138606918370928 -->\n",
              "<g id=\"edge13\" class=\"edge\">\n",
              "<title>138606918371024&#45;&gt;138606918370928</title>\n",
              "<path fill=\"none\" stroke=\"black\" d=\"M169.74,-578.37C173.26,-568.97 179,-553.67 183.55,-541.53\"/>\n",
              "<polygon fill=\"black\" stroke=\"black\" points=\"186.93,-542.5 187.16,-531.91 180.37,-540.04 186.93,-542.5\"/>\n",
              "</g>\n",
              "<!-- 138606918370880 -->\n",
              "<g id=\"node16\" class=\"node\">\n",
              "<title>138606918370880</title>\n",
              "<polygon fill=\"lightgrey\" stroke=\"black\" points=\"217,-663.5 116,-663.5 116,-644.5 217,-644.5 217,-663.5\"/>\n",
              "<text text-anchor=\"middle\" x=\"166.5\" y=\"-651.5\" font-family=\"monospace\" font-size=\"10.00\">AddmmBackward0</text>\n",
              "</g>\n",
              "<!-- 138606918370880&#45;&gt;138606918371024 -->\n",
              "<g id=\"edge14\" class=\"edge\">\n",
              "<title>138606918370880&#45;&gt;138606918371024</title>\n",
              "<path fill=\"none\" stroke=\"black\" d=\"M166.5,-644.37C166.5,-635.16 166.5,-620.29 166.5,-608.27\"/>\n",
              "<polygon fill=\"black\" stroke=\"black\" points=\"170,-607.91 166.5,-597.91 163,-607.91 170,-607.91\"/>\n",
              "</g>\n",
              "<!-- 138606918370832 -->\n",
              "<g id=\"node17\" class=\"node\">\n",
              "<title>138606918370832</title>\n",
              "<polygon fill=\"lightgrey\" stroke=\"black\" points=\"110,-729.5 9,-729.5 9,-710.5 110,-710.5 110,-729.5\"/>\n",
              "<text text-anchor=\"middle\" x=\"59.5\" y=\"-717.5\" font-family=\"monospace\" font-size=\"10.00\">AccumulateGrad</text>\n",
              "</g>\n",
              "<!-- 138606918370832&#45;&gt;138606918370880 -->\n",
              "<g id=\"edge15\" class=\"edge\">\n",
              "<title>138606918370832&#45;&gt;138606918370880</title>\n",
              "<path fill=\"none\" stroke=\"black\" d=\"M73.93,-710.37C91.72,-699.73 122.18,-681.51 143.28,-668.89\"/>\n",
              "<polygon fill=\"black\" stroke=\"black\" points=\"145.17,-671.84 151.96,-663.7 141.58,-665.83 145.17,-671.84\"/>\n",
              "</g>\n",
              "<!-- 138606918165152 -->\n",
              "<g id=\"node18\" class=\"node\">\n",
              "<title>138606918165152</title>\n",
              "<polygon fill=\"lightblue\" stroke=\"black\" points=\"105,-801 10,-801 10,-771 105,-771 105,-801\"/>\n",
              "<text text-anchor=\"middle\" x=\"57.5\" y=\"-789\" font-family=\"monospace\" font-size=\"10.00\">layers.0.bias</text>\n",
              "<text text-anchor=\"middle\" x=\"57.5\" y=\"-778\" font-family=\"monospace\" font-size=\"10.00\"> (64)</text>\n",
              "</g>\n",
              "<!-- 138606918165152&#45;&gt;138606918370832 -->\n",
              "<g id=\"edge16\" class=\"edge\">\n",
              "<title>138606918165152&#45;&gt;138606918370832</title>\n",
              "<path fill=\"none\" stroke=\"black\" d=\"M57.94,-770.8C58.23,-761.7 58.6,-749.79 58.91,-739.9\"/>\n",
              "<polygon fill=\"black\" stroke=\"black\" points=\"62.41,-739.95 59.22,-729.84 55.41,-739.73 62.41,-739.95\"/>\n",
              "</g>\n",
              "<!-- 138606918370784 -->\n",
              "<g id=\"node19\" class=\"node\">\n",
              "<title>138606918370784</title>\n",
              "<polygon fill=\"lightgrey\" stroke=\"black\" points=\"209,-729.5 132,-729.5 132,-710.5 209,-710.5 209,-729.5\"/>\n",
              "<text text-anchor=\"middle\" x=\"170.5\" y=\"-717.5\" font-family=\"monospace\" font-size=\"10.00\">TBackward0</text>\n",
              "</g>\n",
              "<!-- 138606918370784&#45;&gt;138606918370880 -->\n",
              "<g id=\"edge17\" class=\"edge\">\n",
              "<title>138606918370784&#45;&gt;138606918370880</title>\n",
              "<path fill=\"none\" stroke=\"black\" d=\"M169.96,-710.37C169.38,-701.07 168.44,-685.98 167.68,-673.9\"/>\n",
              "<polygon fill=\"black\" stroke=\"black\" points=\"171.17,-673.67 167.06,-663.91 164.19,-674.1 171.17,-673.67\"/>\n",
              "</g>\n",
              "<!-- 138606918379232 -->\n",
              "<g id=\"node20\" class=\"node\">\n",
              "<title>138606918379232</title>\n",
              "<polygon fill=\"lightgrey\" stroke=\"black\" points=\"224,-795.5 123,-795.5 123,-776.5 224,-776.5 224,-795.5\"/>\n",
              "<text text-anchor=\"middle\" x=\"173.5\" y=\"-783.5\" font-family=\"monospace\" font-size=\"10.00\">AccumulateGrad</text>\n",
              "</g>\n",
              "<!-- 138606918379232&#45;&gt;138606918370784 -->\n",
              "<g id=\"edge18\" class=\"edge\">\n",
              "<title>138606918379232&#45;&gt;138606918370784</title>\n",
              "<path fill=\"none\" stroke=\"black\" d=\"M173.1,-776.37C172.66,-767.07 171.95,-751.98 171.39,-739.9\"/>\n",
              "<polygon fill=\"black\" stroke=\"black\" points=\"174.88,-739.73 170.92,-729.91 167.89,-740.06 174.88,-739.73\"/>\n",
              "</g>\n",
              "<!-- 138608326487520 -->\n",
              "<g id=\"node21\" class=\"node\">\n",
              "<title>138608326487520</title>\n",
              "<polygon fill=\"lightblue\" stroke=\"black\" points=\"227,-867 120,-867 120,-837 227,-837 227,-867\"/>\n",
              "<text text-anchor=\"middle\" x=\"173.5\" y=\"-855\" font-family=\"monospace\" font-size=\"10.00\">layers.0.weight</text>\n",
              "<text text-anchor=\"middle\" x=\"173.5\" y=\"-844\" font-family=\"monospace\" font-size=\"10.00\"> (64, 4)</text>\n",
              "</g>\n",
              "<!-- 138608326487520&#45;&gt;138606918379232 -->\n",
              "<g id=\"edge19\" class=\"edge\">\n",
              "<title>138608326487520&#45;&gt;138606918379232</title>\n",
              "<path fill=\"none\" stroke=\"black\" d=\"M173.5,-836.8C173.5,-827.7 173.5,-815.79 173.5,-805.9\"/>\n",
              "<polygon fill=\"black\" stroke=\"black\" points=\"177,-805.84 173.5,-795.84 170,-805.84 177,-805.84\"/>\n",
              "</g>\n",
              "<!-- 138606918371168 -->\n",
              "<g id=\"node22\" class=\"node\">\n",
              "<title>138606918371168</title>\n",
              "<polygon fill=\"lightgrey\" stroke=\"black\" points=\"309,-597.5 232,-597.5 232,-578.5 309,-578.5 309,-597.5\"/>\n",
              "<text text-anchor=\"middle\" x=\"270.5\" y=\"-585.5\" font-family=\"monospace\" font-size=\"10.00\">TBackward0</text>\n",
              "</g>\n",
              "<!-- 138606918371168&#45;&gt;138606918370928 -->\n",
              "<g id=\"edge20\" class=\"edge\">\n",
              "<title>138606918371168&#45;&gt;138606918370928</title>\n",
              "<path fill=\"none\" stroke=\"black\" d=\"M259.71,-578.37C246.83,-568.06 225.06,-550.65 209.37,-538.09\"/>\n",
              "<polygon fill=\"black\" stroke=\"black\" points=\"211.37,-535.21 201.37,-531.7 207,-540.68 211.37,-535.21\"/>\n",
              "</g>\n",
              "<!-- 138606918379376 -->\n",
              "<g id=\"node23\" class=\"node\">\n",
              "<title>138606918379376</title>\n",
              "<polygon fill=\"lightgrey\" stroke=\"black\" points=\"336,-663.5 235,-663.5 235,-644.5 336,-644.5 336,-663.5\"/>\n",
              "<text text-anchor=\"middle\" x=\"285.5\" y=\"-651.5\" font-family=\"monospace\" font-size=\"10.00\">AccumulateGrad</text>\n",
              "</g>\n",
              "<!-- 138606918379376&#45;&gt;138606918371168 -->\n",
              "<g id=\"edge21\" class=\"edge\">\n",
              "<title>138606918379376&#45;&gt;138606918371168</title>\n",
              "<path fill=\"none\" stroke=\"black\" d=\"M283.48,-644.37C281.3,-635.07 277.76,-619.98 274.93,-607.9\"/>\n",
              "<polygon fill=\"black\" stroke=\"black\" points=\"278.28,-606.84 272.59,-597.91 271.46,-608.44 278.28,-606.84\"/>\n",
              "</g>\n",
              "<!-- 138606918165232 -->\n",
              "<g id=\"node24\" class=\"node\">\n",
              "<title>138606918165232</title>\n",
              "<polygon fill=\"lightblue\" stroke=\"black\" points=\"339,-735 232,-735 232,-705 339,-705 339,-735\"/>\n",
              "<text text-anchor=\"middle\" x=\"285.5\" y=\"-723\" font-family=\"monospace\" font-size=\"10.00\">layers.1.weight</text>\n",
              "<text text-anchor=\"middle\" x=\"285.5\" y=\"-712\" font-family=\"monospace\" font-size=\"10.00\"> (64, 64)</text>\n",
              "</g>\n",
              "<!-- 138606918165232&#45;&gt;138606918379376 -->\n",
              "<g id=\"edge22\" class=\"edge\">\n",
              "<title>138606918165232&#45;&gt;138606918379376</title>\n",
              "<path fill=\"none\" stroke=\"black\" d=\"M285.5,-704.8C285.5,-695.7 285.5,-683.79 285.5,-673.9\"/>\n",
              "<polygon fill=\"black\" stroke=\"black\" points=\"289,-673.84 285.5,-663.84 282,-673.84 289,-673.84\"/>\n",
              "</g>\n",
              "<!-- 138606918382832 -->\n",
              "<g id=\"node25\" class=\"node\">\n",
              "<title>138606918382832</title>\n",
              "<polygon fill=\"lightgrey\" stroke=\"black\" points=\"364,-471 287,-471 287,-452 364,-452 364,-471\"/>\n",
              "<text text-anchor=\"middle\" x=\"325.5\" y=\"-459\" font-family=\"monospace\" font-size=\"10.00\">TBackward0</text>\n",
              "</g>\n",
              "<!-- 138606918382832&#45;&gt;138606918370544 -->\n",
              "<g id=\"edge23\" class=\"edge\">\n",
              "<title>138606918382832&#45;&gt;138606918370544</title>\n",
              "<path fill=\"none\" stroke=\"black\" d=\"M303.81,-451.98C281.7,-443.3 247.18,-429.75 222.05,-419.88\"/>\n",
              "<polygon fill=\"black\" stroke=\"black\" points=\"223.17,-416.57 212.58,-416.17 220.61,-423.08 223.17,-416.57\"/>\n",
              "</g>\n",
              "<!-- 138606918370736 -->\n",
              "<g id=\"node26\" class=\"node\">\n",
              "<title>138606918370736</title>\n",
              "<polygon fill=\"lightgrey\" stroke=\"black\" points=\"407,-531.5 306,-531.5 306,-512.5 407,-512.5 407,-531.5\"/>\n",
              "<text text-anchor=\"middle\" x=\"356.5\" y=\"-519.5\" font-family=\"monospace\" font-size=\"10.00\">AccumulateGrad</text>\n",
              "</g>\n",
              "<!-- 138606918370736&#45;&gt;138606918382832 -->\n",
              "<g id=\"edge24\" class=\"edge\">\n",
              "<title>138606918370736&#45;&gt;138606918382832</title>\n",
              "<path fill=\"none\" stroke=\"black\" d=\"M351.93,-512.37C347.44,-503.9 340.47,-490.74 334.81,-480.07\"/>\n",
              "<polygon fill=\"black\" stroke=\"black\" points=\"337.87,-478.36 330.09,-471.17 331.68,-481.64 337.87,-478.36\"/>\n",
              "</g>\n",
              "<!-- 138606918165312 -->\n",
              "<g id=\"node27\" class=\"node\">\n",
              "<title>138606918165312</title>\n",
              "<polygon fill=\"lightblue\" stroke=\"black\" points=\"434,-603 327,-603 327,-573 434,-573 434,-603\"/>\n",
              "<text text-anchor=\"middle\" x=\"380.5\" y=\"-591\" font-family=\"monospace\" font-size=\"10.00\">layers.2.weight</text>\n",
              "<text text-anchor=\"middle\" x=\"380.5\" y=\"-580\" font-family=\"monospace\" font-size=\"10.00\"> (3, 64)</text>\n",
              "</g>\n",
              "<!-- 138606918165312&#45;&gt;138606918370736 -->\n",
              "<g id=\"edge25\" class=\"edge\">\n",
              "<title>138606918165312&#45;&gt;138606918370736</title>\n",
              "<path fill=\"none\" stroke=\"black\" d=\"M375.17,-572.8C371.69,-563.5 367.1,-551.27 363.35,-541.26\"/>\n",
              "<polygon fill=\"black\" stroke=\"black\" points=\"366.61,-539.98 359.82,-531.84 360.05,-542.44 366.61,-539.98\"/>\n",
              "</g>\n",
              "</g>\n",
              "</svg>\n"
            ],
            "text/plain": [
              "<graphviz.graphs.Digraph at 0x7e0ff0223490>"
            ]
          },
          "execution_count": 33,
          "metadata": {},
          "output_type": "execute_result"
        }
      ],
      "source": [
        "make_dot(loss, params=dict(model.named_parameters()))"
      ]
    }
  ],
  "metadata": {
    "accelerator": "GPU",
    "colab": {
      "gpuType": "T4",
      "provenance": [],
      "toc_visible": true
    },
    "kernelspec": {
      "display_name": "vEnv",
      "language": "python",
      "name": "python3"
    },
    "language_info": {
      "codemirror_mode": {
        "name": "ipython",
        "version": 3
      },
      "file_extension": ".py",
      "mimetype": "text/x-python",
      "name": "python",
      "nbconvert_exporter": "python",
      "pygments_lexer": "ipython3",
      "version": "3.12.3"
    }
  },
  "nbformat": 4,
  "nbformat_minor": 0
}
